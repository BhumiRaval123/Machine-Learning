{
  "nbformat": 4,
  "nbformat_minor": 0,
  "metadata": {
    "colab": {
      "name": "CNN.ipynb",
      "provenance": [],
      "include_colab_link": true
    },
    "kernelspec": {
      "name": "python3",
      "display_name": "Python 3"
    }
  },
  "cells": [
    {
      "cell_type": "markdown",
      "metadata": {
        "id": "view-in-github",
        "colab_type": "text"
      },
      "source": [
        "<a href=\"https://colab.research.google.com/github/BhumiRaval123/Machine-Learning/blob/main/CNN.ipynb\" target=\"_parent\"><img src=\"https://colab.research.google.com/assets/colab-badge.svg\" alt=\"Open In Colab\"/></a>"
      ]
    },
    {
      "cell_type": "code",
      "metadata": {
        "id": "ZRu9ndDu3Asu"
      },
      "source": [
        "import numpy as np\n",
        "import numpy.random as nr\n",
        "import matplotlib.pyplot as plt\n",
        "import keras\n",
        "from keras.datasets import mnist\n",
        "import keras.utils.np_utils as ku\n",
        "import keras.models as models\n",
        "import keras.layers as layers\n",
        "from keras import regularizers\n",
        "from keras.layers import Dropout\n",
        "#from keras.optimizers import rmsprop, Adam\n",
        "from keras.utils import to_categorical"
      ],
      "execution_count": 1,
      "outputs": []
    },
    {
      "cell_type": "code",
      "metadata": {
        "id": "fJ_vghKN2h6L"
      },
      "source": [
        "%matplotlib inline"
      ],
      "execution_count": 2,
      "outputs": []
    },
    {
      "cell_type": "code",
      "metadata": {
        "id": "sHFZSQyh0-SP"
      },
      "source": [
        "import tensorflow as tf\n"
      ],
      "execution_count": 4,
      "outputs": []
    },
    {
      "cell_type": "code",
      "metadata": {
        "id": "YxnOb8v4qr0A"
      },
      "source": [
        "from tensorflow.keras.models import Sequential\n",
        "from tensorflow.keras.layers import Dense, Dropout, Activation, Flatten\n",
        "from tensorflow.keras.layers import Conv2D"
      ],
      "execution_count": 5,
      "outputs": []
    },
    {
      "cell_type": "code",
      "metadata": {
        "id": "LzSDhVWy-aQm",
        "colab": {
          "base_uri": "https://localhost:8080/"
        },
        "outputId": "3851fd68-1fbf-4ce9-961c-b4492f327c95"
      },
      "source": [
        "print(keras.__version__)"
      ],
      "execution_count": 6,
      "outputs": [
        {
          "output_type": "stream",
          "text": [
            "2.4.3\n"
          ],
          "name": "stdout"
        }
      ]
    },
    {
      "cell_type": "code",
      "metadata": {
        "id": "YakI7Ba7sXzK",
        "colab": {
          "base_uri": "https://localhost:8080/"
        },
        "outputId": "897614e4-fda6-49bd-ab9c-31fc0fabaea3"
      },
      "source": [
        "from keras.datasets import fashion_mnist\n",
        "(train_X,train_Y), (test_X,test_Y) = fashion_mnist.load_data()"
      ],
      "execution_count": 7,
      "outputs": [
        {
          "output_type": "stream",
          "text": [
            "Downloading data from https://storage.googleapis.com/tensorflow/tf-keras-datasets/train-labels-idx1-ubyte.gz\n",
            "32768/29515 [=================================] - 0s 0us/step\n",
            "Downloading data from https://storage.googleapis.com/tensorflow/tf-keras-datasets/train-images-idx3-ubyte.gz\n",
            "26427392/26421880 [==============================] - 1s 0us/step\n",
            "Downloading data from https://storage.googleapis.com/tensorflow/tf-keras-datasets/t10k-labels-idx1-ubyte.gz\n",
            "8192/5148 [===============================================] - 0s 0us/step\n",
            "Downloading data from https://storage.googleapis.com/tensorflow/tf-keras-datasets/t10k-images-idx3-ubyte.gz\n",
            "4423680/4422102 [==============================] - 0s 0us/step\n"
          ],
          "name": "stdout"
        }
      ]
    },
    {
      "cell_type": "code",
      "metadata": {
        "id": "pnCjBjAZsYRm"
      },
      "source": [
        "plt.imshow(train_X[0])\n",
        "print(train_Y[0])"
      ],
      "execution_count": null,
      "outputs": []
    },
    {
      "cell_type": "code",
      "metadata": {
        "id": "ulwHlSfsscfW"
      },
      "source": [
        "print('Training data shape : ', train_X.shape, train_Y.shape)\n",
        "\n",
        "print('Testing data shape : ', test_X.shape, test_Y.shape)"
      ],
      "execution_count": null,
      "outputs": []
    },
    {
      "cell_type": "code",
      "metadata": {
        "id": "ftBOT74FtVac"
      },
      "source": [
        "classes = np.unique(train_Y)\n",
        "nClasses = len(classes)\n",
        "print('Total number of outputs : ', nClasses)\n",
        "print('Output classes : ', classes)"
      ],
      "execution_count": null,
      "outputs": []
    },
    {
      "cell_type": "code",
      "metadata": {
        "id": "NroQGKObttH8"
      },
      "source": [
        "plt.figure(figsize=[5,5])\n",
        "\n",
        "# Display the first image in training data\n",
        "plt.subplot(121)\n",
        "plt.imshow(train_X[0,:,:], cmap='gray')\n",
        "plt.title(\"Ground Truth : {}\".format(train_Y[0]))\n",
        "\n",
        "# Display the first image in testing data\n",
        "plt.subplot(122)\n",
        "plt.imshow(test_X[0,:,:], cmap='gray')\n",
        "plt.title(\"Ground Truth : {}\".format(test_Y[0]))"
      ],
      "execution_count": null,
      "outputs": []
    },
    {
      "cell_type": "code",
      "metadata": {
        "id": "NBy1GiTRtyoq"
      },
      "source": [
        "train_X = train_X.reshape(-1, 28,28, 1)\n",
        "test_X = test_X.reshape(-1, 28,28, 1)\n",
        "train_X.shape, test_X.shape"
      ],
      "execution_count": null,
      "outputs": []
    },
    {
      "cell_type": "code",
      "metadata": {
        "id": "Yv5yRt1WtzpD"
      },
      "source": [
        "train_X = train_X.astype('float32')\n",
        "test_X = test_X.astype('float32')\n",
        "train_X = train_X / 255.\n",
        "test_X = test_X / 255"
      ],
      "execution_count": 13,
      "outputs": []
    },
    {
      "cell_type": "code",
      "metadata": {
        "id": "VJ3Q9FeMuCPl"
      },
      "source": [
        "# Change the labels from categorical to one-hot encoding\n",
        "train_Y_one_hot = to_categorical(train_Y)\n",
        "test_Y_one_hot = to_categorical(test_Y)\n",
        "\n",
        "# Display the change for category label using one-hot encoding\n",
        "print('Original label:', train_Y[0])\n",
        "print('After conversion to one-hot:', train_Y_one_hot[0])"
      ],
      "execution_count": null,
      "outputs": []
    },
    {
      "cell_type": "code",
      "metadata": {
        "id": "0_985YVcuDAW"
      },
      "source": [
        "from sklearn.model_selection import train_test_split\n",
        "train_X,valid_X,train_label,valid_label = train_test_split(train_X, train_Y_one_hot, test_size=0.2, random_state=13)"
      ],
      "execution_count": 15,
      "outputs": []
    },
    {
      "cell_type": "code",
      "metadata": {
        "id": "8EKJMWjzuDrM"
      },
      "source": [
        "train_X.shape,valid_X.shape,train_label.shape,valid_label.shape\n"
      ],
      "execution_count": null,
      "outputs": []
    },
    {
      "cell_type": "code",
      "metadata": {
        "id": "YxOnVwxFuEDX"
      },
      "source": [
        "import keras\n",
        "from keras.models import Sequential,Input,Model\n",
        "from keras.layers import Dense, Dropout, Flatten\n",
        "from keras.layers import Conv2D, MaxPooling2D\n",
        "from keras.layers.normalization import BatchNormalization\n",
        "from keras.layers.advanced_activations import LeakyReLU"
      ],
      "execution_count": 17,
      "outputs": []
    },
    {
      "cell_type": "code",
      "metadata": {
        "id": "6n1qXoxUzzbI"
      },
      "source": [
        "batch_size = 64\n",
        "epochs = 20\n",
        "num_classes = 10"
      ],
      "execution_count": 18,
      "outputs": []
    },
    {
      "cell_type": "code",
      "metadata": {
        "id": "OYAeGKfeA_6C"
      },
      "source": [
        "import keras\n",
        "import keras.models as models"
      ],
      "execution_count": 19,
      "outputs": []
    },
    {
      "cell_type": "code",
      "metadata": {
        "id": "D0mbucEa0b5V",
        "colab": {
          "base_uri": "https://localhost:8080/"
        },
        "outputId": "4c7aa3eb-9737-4c18-b72e-2565dfba57e1"
      },
      "source": [
        "train_X.shape[1:]"
      ],
      "execution_count": 28,
      "outputs": [
        {
          "output_type": "execute_result",
          "data": {
            "text/plain": [
              "(28, 28, 1)"
            ]
          },
          "metadata": {
            "tags": []
          },
          "execution_count": 28
        }
      ]
    },
    {
      "cell_type": "code",
      "metadata": {
        "id": "SnYey_i0z8aq"
      },
      "source": [
        "model = tf.keras.Sequential()"
      ],
      "execution_count": 29,
      "outputs": []
    },
    {
      "cell_type": "code",
      "metadata": {
        "id": "jR9z9JatsOD1"
      },
      "source": [
        "model.add(tf.keras.layers.Conv2D(32,(3,3),activation='linear',input_shape=(28, 28,1),padding='same'))\n",
        "model.add(tf.keras.layers.LeakyReLU(alpha=0.1))\n",
        "model.add(tf.keras.layers.MaxPooling2D((2, 2),padding='same'))\n"
      ],
      "execution_count": 30,
      "outputs": []
    },
    {
      "cell_type": "code",
      "metadata": {
        "id": "BlRWESGTvMo6"
      },
      "source": [
        "model.add(tf.keras.layers.Conv2D(64, (3, 3), activation='linear',padding='same'))\n",
        "model.add(tf.keras.layers.LeakyReLU(alpha=0.1))\n",
        "model.add(tf.keras.layers.MaxPooling2D(pool_size=(2, 2),padding='same'))\n",
        "model.add(tf.keras.layers.Conv2D(128, (3, 3), activation='linear',padding='same'))\n",
        "model.add(tf.keras.layers.LeakyReLU(alpha=0.1))                  \n",
        "model.add(tf.keras.layers.MaxPooling2D(pool_size=(2, 2),padding='same'))\n"
      ],
      "execution_count": 31,
      "outputs": []
    },
    {
      "cell_type": "code",
      "metadata": {
        "id": "1URzrx2Xvmpo"
      },
      "source": [
        "model.add(tf.keras.layers.Flatten())"
      ],
      "execution_count": 33,
      "outputs": []
    },
    {
      "cell_type": "code",
      "metadata": {
        "id": "iS549nNBFdYo"
      },
      "source": [
        "model.add(tf.keras.layers.Dense(128, activation='linear'))\n",
        "model.add(tf.keras.layers.LeakyReLU(alpha=0.1))                  \n",
        "model.add(tf.keras.layers.Dense(num_classes, activation='softmax'))"
      ],
      "execution_count": 36,
      "outputs": []
    },
    {
      "cell_type": "code",
      "metadata": {
        "id": "GdOqY2RUI9vS"
      },
      "source": [
        "model.compile(loss=tf.keras.losses.categorical_crossentropy, optimizer=tf.keras.optimizers.Adam(),metrics=['accuracy'])\n"
      ],
      "execution_count": 37,
      "outputs": []
    },
    {
      "cell_type": "code",
      "metadata": {
        "id": "VWQmyQ-hxAaa",
        "colab": {
          "base_uri": "https://localhost:8080/"
        },
        "outputId": "41d7b41b-c9ea-4b4f-8ea8-4edae8da5323"
      },
      "source": [
        "model.summary()\n"
      ],
      "execution_count": 38,
      "outputs": [
        {
          "output_type": "stream",
          "text": [
            "Model: \"sequential_1\"\n",
            "_________________________________________________________________\n",
            "Layer (type)                 Output Shape              Param #   \n",
            "=================================================================\n",
            "conv2d_4 (Conv2D)            (None, 28, 28, 32)        320       \n",
            "_________________________________________________________________\n",
            "leaky_re_lu_4 (LeakyReLU)    (None, 28, 28, 32)        0         \n",
            "_________________________________________________________________\n",
            "max_pooling2d_3 (MaxPooling2 (None, 14, 14, 32)        0         \n",
            "_________________________________________________________________\n",
            "conv2d_5 (Conv2D)            (None, 14, 14, 64)        18496     \n",
            "_________________________________________________________________\n",
            "leaky_re_lu_5 (LeakyReLU)    (None, 14, 14, 64)        0         \n",
            "_________________________________________________________________\n",
            "max_pooling2d_4 (MaxPooling2 (None, 7, 7, 64)          0         \n",
            "_________________________________________________________________\n",
            "conv2d_6 (Conv2D)            (None, 7, 7, 128)         73856     \n",
            "_________________________________________________________________\n",
            "leaky_re_lu_6 (LeakyReLU)    (None, 7, 7, 128)         0         \n",
            "_________________________________________________________________\n",
            "max_pooling2d_5 (MaxPooling2 (None, 4, 4, 128)         0         \n",
            "_________________________________________________________________\n",
            "flatten_2 (Flatten)          (None, 2048)              0         \n",
            "_________________________________________________________________\n",
            "flatten_3 (Flatten)          (None, 2048)              0         \n",
            "_________________________________________________________________\n",
            "dense_2 (Dense)              (None, 128)               262272    \n",
            "_________________________________________________________________\n",
            "leaky_re_lu_7 (LeakyReLU)    (None, 128)               0         \n",
            "_________________________________________________________________\n",
            "dense_3 (Dense)              (None, 10)                1290      \n",
            "_________________________________________________________________\n",
            "dense_4 (Dense)              (None, 128)               1408      \n",
            "_________________________________________________________________\n",
            "leaky_re_lu_8 (LeakyReLU)    (None, 128)               0         \n",
            "_________________________________________________________________\n",
            "dense_5 (Dense)              (None, 10)                1290      \n",
            "=================================================================\n",
            "Total params: 358,932\n",
            "Trainable params: 358,932\n",
            "Non-trainable params: 0\n",
            "_________________________________________________________________\n"
          ],
          "name": "stdout"
        }
      ]
    },
    {
      "cell_type": "code",
      "metadata": {
        "id": "ZT8bQWyexRxD",
        "colab": {
          "base_uri": "https://localhost:8080/"
        },
        "outputId": "7589b9bc-20ed-4c6b-ee29-56226c3ba0b9"
      },
      "source": [
        "model_train=model.fit(train_X, train_label, batch_size=64,epochs=20,verbose=1,validation_data=(valid_X, valid_label))"
      ],
      "execution_count": 39,
      "outputs": [
        {
          "output_type": "stream",
          "text": [
            "Epoch 1/20\n",
            "750/750 [==============================] - 86s 113ms/step - loss: 1.5976 - accuracy: 0.3570 - val_loss: 0.4888 - val_accuracy: 0.8382\n",
            "Epoch 2/20\n",
            "750/750 [==============================] - 85s 114ms/step - loss: 0.4068 - accuracy: 0.8638 - val_loss: 0.3296 - val_accuracy: 0.8849\n",
            "Epoch 3/20\n",
            "750/750 [==============================] - 86s 114ms/step - loss: 0.2857 - accuracy: 0.9028 - val_loss: 0.2903 - val_accuracy: 0.8994\n",
            "Epoch 4/20\n",
            "750/750 [==============================] - 86s 114ms/step - loss: 0.2397 - accuracy: 0.9186 - val_loss: 0.2727 - val_accuracy: 0.9038\n",
            "Epoch 5/20\n",
            "750/750 [==============================] - 85s 114ms/step - loss: 0.1991 - accuracy: 0.9301 - val_loss: 0.2510 - val_accuracy: 0.9137\n",
            "Epoch 6/20\n",
            "750/750 [==============================] - 85s 113ms/step - loss: 0.1698 - accuracy: 0.9410 - val_loss: 0.2525 - val_accuracy: 0.9152\n",
            "Epoch 7/20\n",
            "750/750 [==============================] - 85s 114ms/step - loss: 0.1420 - accuracy: 0.9504 - val_loss: 0.2575 - val_accuracy: 0.9138\n",
            "Epoch 8/20\n",
            "750/750 [==============================] - 86s 114ms/step - loss: 0.1176 - accuracy: 0.9585 - val_loss: 0.2591 - val_accuracy: 0.9160\n",
            "Epoch 9/20\n",
            "750/750 [==============================] - 85s 114ms/step - loss: 0.1073 - accuracy: 0.9619 - val_loss: 0.2961 - val_accuracy: 0.9067\n",
            "Epoch 10/20\n",
            "750/750 [==============================] - 85s 113ms/step - loss: 0.0909 - accuracy: 0.9676 - val_loss: 0.2903 - val_accuracy: 0.9162\n",
            "Epoch 11/20\n",
            "750/750 [==============================] - 85s 113ms/step - loss: 0.0779 - accuracy: 0.9727 - val_loss: 0.3013 - val_accuracy: 0.9178\n",
            "Epoch 12/20\n",
            "750/750 [==============================] - 84s 112ms/step - loss: 0.0703 - accuracy: 0.9754 - val_loss: 0.3065 - val_accuracy: 0.9167\n",
            "Epoch 13/20\n",
            "750/750 [==============================] - 85s 113ms/step - loss: 0.0621 - accuracy: 0.9788 - val_loss: 0.3230 - val_accuracy: 0.9179\n",
            "Epoch 14/20\n",
            "750/750 [==============================] - 84s 113ms/step - loss: 0.0555 - accuracy: 0.9807 - val_loss: 0.3332 - val_accuracy: 0.9149\n",
            "Epoch 15/20\n",
            "750/750 [==============================] - 84s 112ms/step - loss: 0.0497 - accuracy: 0.9837 - val_loss: 0.3450 - val_accuracy: 0.9155\n",
            "Epoch 16/20\n",
            "750/750 [==============================] - 84s 112ms/step - loss: 0.0466 - accuracy: 0.9838 - val_loss: 0.3678 - val_accuracy: 0.9151\n",
            "Epoch 17/20\n",
            "750/750 [==============================] - 84s 112ms/step - loss: 0.0472 - accuracy: 0.9838 - val_loss: 0.3668 - val_accuracy: 0.9210\n",
            "Epoch 18/20\n",
            "750/750 [==============================] - 85s 113ms/step - loss: 0.0387 - accuracy: 0.9877 - val_loss: 0.3919 - val_accuracy: 0.9115\n",
            "Epoch 19/20\n",
            "750/750 [==============================] - 84s 113ms/step - loss: 0.0385 - accuracy: 0.9872 - val_loss: 0.4074 - val_accuracy: 0.9129\n",
            "Epoch 20/20\n",
            "750/750 [==============================] - 84s 112ms/step - loss: 0.0425 - accuracy: 0.9860 - val_loss: 0.3886 - val_accuracy: 0.9147\n"
          ],
          "name": "stdout"
        }
      ]
    },
    {
      "cell_type": "code",
      "metadata": {
        "id": "_1usdDpMzV7w",
        "colab": {
          "base_uri": "https://localhost:8080/"
        },
        "outputId": "b37f097e-5383-4f01-e348-cbeeb04e16f2"
      },
      "source": [
        "test_eval = model.evaluate(test_X, test_Y_one_hot, verbose=0)\n",
        "print('Test loss:', test_eval[0])\n",
        "print('Test accuracy:', test_eval[1])"
      ],
      "execution_count": 40,
      "outputs": [
        {
          "output_type": "stream",
          "text": [
            "Test loss: 0.42985454201698303\n",
            "Test accuracy: 0.9085000157356262\n"
          ],
          "name": "stdout"
        }
      ]
    },
    {
      "cell_type": "code",
      "metadata": {
        "id": "rCuGlP0FM21q",
        "colab": {
          "base_uri": "https://localhost:8080/"
        },
        "outputId": "b512597c-5811-4956-c332-f9b29bf8256e"
      },
      "source": [
        "model_train.history"
      ],
      "execution_count": 41,
      "outputs": [
        {
          "output_type": "execute_result",
          "data": {
            "text/plain": [
              "{'accuracy': [0.5228958129882812,\n",
              "  0.8745208382606506,\n",
              "  0.9033750295639038,\n",
              "  0.9174374938011169,\n",
              "  0.9307916760444641,\n",
              "  0.9392708539962769,\n",
              "  0.9467291831970215,\n",
              "  0.9534791707992554,\n",
              "  0.9600625038146973,\n",
              "  0.965624988079071,\n",
              "  0.9705208539962769,\n",
              "  0.9732499718666077,\n",
              "  0.976812481880188,\n",
              "  0.9770416617393494,\n",
              "  0.9804999828338623,\n",
              "  0.9827708601951599,\n",
              "  0.9840208292007446,\n",
              "  0.9846875071525574,\n",
              "  0.9866041541099548,\n",
              "  0.984666645526886],\n",
              " 'loss': [1.1645450592041016,\n",
              "  0.36907270550727844,\n",
              "  0.28114771842956543,\n",
              "  0.23606963455677032,\n",
              "  0.19636434316635132,\n",
              "  0.17233163118362427,\n",
              "  0.1497420221567154,\n",
              "  0.12836189568042755,\n",
              "  0.11256537586450577,\n",
              "  0.09723351895809174,\n",
              "  0.08331003040075302,\n",
              "  0.0763099193572998,\n",
              "  0.06622718274593353,\n",
              "  0.06465715169906616,\n",
              "  0.056605055928230286,\n",
              "  0.0506974495947361,\n",
              "  0.047206588089466095,\n",
              "  0.04700511321425438,\n",
              "  0.0397847518324852,\n",
              "  0.044450633227825165],\n",
              " 'val_accuracy': [0.8382499814033508,\n",
              "  0.8849166631698608,\n",
              "  0.8994166851043701,\n",
              "  0.9038333296775818,\n",
              "  0.9136666655540466,\n",
              "  0.9151666760444641,\n",
              "  0.9138333201408386,\n",
              "  0.9160000085830688,\n",
              "  0.9066666960716248,\n",
              "  0.9162499904632568,\n",
              "  0.9177500009536743,\n",
              "  0.9166666865348816,\n",
              "  0.9179166555404663,\n",
              "  0.9149166941642761,\n",
              "  0.9154999852180481,\n",
              "  0.9150833487510681,\n",
              "  0.9210000038146973,\n",
              "  0.9114999771118164,\n",
              "  0.9129166603088379,\n",
              "  0.9147499799728394],\n",
              " 'val_loss': [0.4888039529323578,\n",
              "  0.3296094238758087,\n",
              "  0.2902787923812866,\n",
              "  0.27268338203430176,\n",
              "  0.25099438428878784,\n",
              "  0.25249946117401123,\n",
              "  0.25750982761383057,\n",
              "  0.2591152489185333,\n",
              "  0.2960558831691742,\n",
              "  0.290271133184433,\n",
              "  0.30127161741256714,\n",
              "  0.30654212832450867,\n",
              "  0.32298704981803894,\n",
              "  0.33315953612327576,\n",
              "  0.34504351019859314,\n",
              "  0.3678102195262909,\n",
              "  0.3668070137500763,\n",
              "  0.39189547300338745,\n",
              "  0.40744245052337646,\n",
              "  0.38864484429359436]}"
            ]
          },
          "metadata": {
            "tags": []
          },
          "execution_count": 41
        }
      ]
    },
    {
      "cell_type": "code",
      "metadata": {
        "id": "LCLs5XIJ5Sxe",
        "colab": {
          "base_uri": "https://localhost:8080/",
          "height": 545
        },
        "outputId": "b1e24876-ff15-4ecf-8442-8ae66250dac7"
      },
      "source": [
        "accuracy = model_train.history['accuracy']\n",
        "val_accuracy = model_train.history['val_accuracy']\n",
        "loss = model_train.history['loss']\n",
        "val_loss = model_train.history['val_loss']\n",
        "epochs = range(len(accuracy))\n",
        "plt.plot(epochs, accuracy, 'bo', label='Training accuracy')\n",
        "plt.plot(epochs, val_accuracy, 'b', label='Validation accuracy')\n",
        "plt.title('Training and validation accuracy')\n",
        "plt.legend()\n",
        "plt.figure()\n",
        "plt.plot(epochs, loss, 'bo', label='Training loss')\n",
        "plt.plot(epochs, val_loss, 'b', label='Validation loss')\n",
        "plt.title('Training and validation loss')\n",
        "plt.legend()\n",
        "plt.show()"
      ],
      "execution_count": 42,
      "outputs": [
        {
          "output_type": "display_data",
          "data": {
            "image/png": "[encoded data removed]",
            "text/plain": [
              "<Figure size 432x288 with 1 Axes>"
            ]
          },
          "metadata": {
            "tags": [],
            "needs_background": "light"
          }
        },
        {
          "output_type": "display_data",
          "data": {
            "image/png": "[encoded data removed]",
            "text/plain": [
              "<Figure size 432x288 with 1 Axes>"
            ]
          },
          "metadata": {
            "tags": [],
            "needs_background": "light"
          }
        }
      ]
    },
    {
      "cell_type": "code",
      "metadata": {
        "id": "sO8JBbEH58Si"
      },
      "source": [
        "fashion_model = tf.keras.Sequential()\n",
        "fashion_model.add(tf.keras.layers.Conv2D(32, kernel_size=(3, 3),activation='linear',padding='same',input_shape=(28,28,1)))\n",
        "fashion_model.add(tf.keras.layers.LeakyReLU(alpha=0.1))\n",
        "fashion_model.add(tf.keras.layers.MaxPooling2D((2, 2),padding='same'))\n",
        "fashion_model.add(tf.keras.layers.Dropout(0.25))\n",
        "fashion_model.add(tf.keras.layers.Conv2D(64, (3, 3), activation='linear',padding='same'))\n",
        "fashion_model.add(tf.keras.layers.LeakyReLU(alpha=0.1))\n",
        "fashion_model.add(tf.keras.layers.MaxPooling2D(pool_size=(2, 2),padding='same'))\n",
        "fashion_model.add(tf.keras.layers.Dropout(0.25))\n",
        "fashion_model.add(tf.keras.layers.Conv2D(128, (3, 3), activation='linear',padding='same'))\n",
        "fashion_model.add(tf.keras.layers.LeakyReLU(alpha=0.1))                  \n",
        "fashion_model.add(tf.keras.layers.MaxPooling2D(pool_size=(2, 2),padding='same'))\n",
        "fashion_model.add(tf.keras.layers.Dropout(0.4))\n",
        "fashion_model.add(tf.keras.layers.Flatten())\n",
        "fashion_model.add(tf.keras.layers.Dense(128, activation='linear'))\n",
        "fashion_model.add(tf.keras.layers.LeakyReLU(alpha=0.1))           \n",
        "fashion_model.add(tf.keras.layers.Dropout(0.3))\n",
        "fashion_model.add(tf.keras.layers.Dense(num_classes, activation='softmax'))"
      ],
      "execution_count": 43,
      "outputs": []
    },
    {
      "cell_type": "code",
      "metadata": {
        "id": "c9bDpu9K7G3C",
        "colab": {
          "base_uri": "https://localhost:8080/"
        },
        "outputId": "0e1b6cf7-ba4a-458e-8ac2-9f0fd610c29a"
      },
      "source": [
        "fashion_model.summary()\n"
      ],
      "execution_count": 44,
      "outputs": [
        {
          "output_type": "stream",
          "text": [
            "Model: \"sequential_2\"\n",
            "_________________________________________________________________\n",
            "Layer (type)                 Output Shape              Param #   \n",
            "=================================================================\n",
            "conv2d_7 (Conv2D)            (None, 28, 28, 32)        320       \n",
            "_________________________________________________________________\n",
            "leaky_re_lu_9 (LeakyReLU)    (None, 28, 28, 32)        0         \n",
            "_________________________________________________________________\n",
            "max_pooling2d_6 (MaxPooling2 (None, 14, 14, 32)        0         \n",
            "_________________________________________________________________\n",
            "dropout (Dropout)            (None, 14, 14, 32)        0         \n",
            "_________________________________________________________________\n",
            "conv2d_8 (Conv2D)            (None, 14, 14, 64)        18496     \n",
            "_________________________________________________________________\n",
            "leaky_re_lu_10 (LeakyReLU)   (None, 14, 14, 64)        0         \n",
            "_________________________________________________________________\n",
            "max_pooling2d_7 (MaxPooling2 (None, 7, 7, 64)          0         \n",
            "_________________________________________________________________\n",
            "dropout_1 (Dropout)          (None, 7, 7, 64)          0         \n",
            "_________________________________________________________________\n",
            "conv2d_9 (Conv2D)            (None, 7, 7, 128)         73856     \n",
            "_________________________________________________________________\n",
            "leaky_re_lu_11 (LeakyReLU)   (None, 7, 7, 128)         0         \n",
            "_________________________________________________________________\n",
            "max_pooling2d_8 (MaxPooling2 (None, 4, 4, 128)         0         \n",
            "_________________________________________________________________\n",
            "dropout_2 (Dropout)          (None, 4, 4, 128)         0         \n",
            "_________________________________________________________________\n",
            "flatten_4 (Flatten)          (None, 2048)              0         \n",
            "_________________________________________________________________\n",
            "dense_6 (Dense)              (None, 128)               262272    \n",
            "_________________________________________________________________\n",
            "leaky_re_lu_12 (LeakyReLU)   (None, 128)               0         \n",
            "_________________________________________________________________\n",
            "dropout_3 (Dropout)          (None, 128)               0         \n",
            "_________________________________________________________________\n",
            "dense_7 (Dense)              (None, 10)                1290      \n",
            "=================================================================\n",
            "Total params: 356,234\n",
            "Trainable params: 356,234\n",
            "Non-trainable params: 0\n",
            "_________________________________________________________________\n"
          ],
          "name": "stdout"
        }
      ]
    },
    {
      "cell_type": "code",
      "metadata": {
        "id": "dQh_myf17JZS"
      },
      "source": [
        "fashion_model.compile(loss=tf.keras.losses.categorical_crossentropy, optimizer=tf.keras.optimizers.Adam(),metrics=['accuracy'])\n"
      ],
      "execution_count": 45,
      "outputs": []
    },
    {
      "cell_type": "code",
      "metadata": {
        "id": "6GpDULM37MQD",
        "colab": {
          "base_uri": "https://localhost:8080/"
        },
        "outputId": "d628497f-e9d7-4bda-fd6c-2742e641228e"
      },
      "source": [
        "fashion_train_dropout = fashion_model.fit(train_X, train_label, batch_size=64,epochs=20,verbose=1,validation_data=(valid_X, valid_label))"
      ],
      "execution_count": 46,
      "outputs": [
        {
          "output_type": "stream",
          "text": [
            "Epoch 1/20\n",
            "750/750 [==============================] - 91s 120ms/step - loss: 0.8606 - accuracy: 0.6714 - val_loss: 0.3724 - val_accuracy: 0.8614\n",
            "Epoch 2/20\n",
            "750/750 [==============================] - 90s 120ms/step - loss: 0.3838 - accuracy: 0.8597 - val_loss: 0.3105 - val_accuracy: 0.8842\n",
            "Epoch 3/20\n",
            "750/750 [==============================] - 90s 120ms/step - loss: 0.3326 - accuracy: 0.8764 - val_loss: 0.2760 - val_accuracy: 0.8972\n",
            "Epoch 4/20\n",
            "750/750 [==============================] - 90s 119ms/step - loss: 0.2979 - accuracy: 0.8898 - val_loss: 0.2576 - val_accuracy: 0.9045\n",
            "Epoch 5/20\n",
            "750/750 [==============================] - 90s 121ms/step - loss: 0.2852 - accuracy: 0.8936 - val_loss: 0.2619 - val_accuracy: 0.9013\n",
            "Epoch 6/20\n",
            "750/750 [==============================] - 90s 120ms/step - loss: 0.2696 - accuracy: 0.9003 - val_loss: 0.2468 - val_accuracy: 0.9058\n",
            "Epoch 7/20\n",
            "750/750 [==============================] - 90s 119ms/step - loss: 0.2582 - accuracy: 0.9041 - val_loss: 0.2328 - val_accuracy: 0.9129\n",
            "Epoch 8/20\n",
            "750/750 [==============================] - 89s 119ms/step - loss: 0.2481 - accuracy: 0.9063 - val_loss: 0.2301 - val_accuracy: 0.9158\n",
            "Epoch 9/20\n",
            "750/750 [==============================] - 89s 119ms/step - loss: 0.2324 - accuracy: 0.9151 - val_loss: 0.2291 - val_accuracy: 0.9158\n",
            "Epoch 10/20\n",
            "750/750 [==============================] - 89s 118ms/step - loss: 0.2325 - accuracy: 0.9117 - val_loss: 0.2216 - val_accuracy: 0.9197\n",
            "Epoch 11/20\n",
            "750/750 [==============================] - 89s 119ms/step - loss: 0.2221 - accuracy: 0.9163 - val_loss: 0.2346 - val_accuracy: 0.9142\n",
            "Epoch 12/20\n",
            "750/750 [==============================] - 89s 119ms/step - loss: 0.2246 - accuracy: 0.9145 - val_loss: 0.2158 - val_accuracy: 0.9194\n",
            "Epoch 13/20\n",
            "750/750 [==============================] - 89s 119ms/step - loss: 0.2154 - accuracy: 0.9176 - val_loss: 0.2221 - val_accuracy: 0.9220\n",
            "Epoch 14/20\n",
            "750/750 [==============================] - 88s 118ms/step - loss: 0.2099 - accuracy: 0.9204 - val_loss: 0.2140 - val_accuracy: 0.9242\n",
            "Epoch 15/20\n",
            "750/750 [==============================] - 89s 118ms/step - loss: 0.2037 - accuracy: 0.9231 - val_loss: 0.2171 - val_accuracy: 0.9224\n",
            "Epoch 16/20\n",
            "750/750 [==============================] - 89s 119ms/step - loss: 0.2046 - accuracy: 0.9209 - val_loss: 0.2216 - val_accuracy: 0.9222\n",
            "Epoch 17/20\n",
            "750/750 [==============================] - 89s 119ms/step - loss: 0.2029 - accuracy: 0.9232 - val_loss: 0.2212 - val_accuracy: 0.9182\n",
            "Epoch 18/20\n",
            "750/750 [==============================] - 89s 119ms/step - loss: 0.2015 - accuracy: 0.9250 - val_loss: 0.2135 - val_accuracy: 0.9252\n",
            "Epoch 19/20\n",
            "750/750 [==============================] - 89s 119ms/step - loss: 0.1939 - accuracy: 0.9262 - val_loss: 0.2140 - val_accuracy: 0.9222\n",
            "Epoch 20/20\n",
            "750/750 [==============================] - 89s 119ms/step - loss: 0.1891 - accuracy: 0.9262 - val_loss: 0.2122 - val_accuracy: 0.9251\n"
          ],
          "name": "stdout"
        }
      ]
    },
    {
      "cell_type": "code",
      "metadata": {
        "id": "6sOCptVl7POZ",
        "colab": {
          "base_uri": "https://localhost:8080/"
        },
        "outputId": "68f38a1f-f836-4029-8850-74a265968bc3"
      },
      "source": [
        "fashion_model.save(\"fashion_model_dropout.h5py\")"
      ],
      "execution_count": null,
      "outputs": [
        {
          "output_type": "stream",
          "text": [
            "INFO:tensorflow:Assets written to: fashion_model_dropout.h5py/assets\n"
          ],
          "name": "stdout"
        }
      ]
    },
    {
      "cell_type": "code",
      "metadata": {
        "id": "LRkmrduA7V9d",
        "colab": {
          "base_uri": "https://localhost:8080/"
        },
        "outputId": "eb1ce0aa-f7f9-42b3-97cd-ae8414468aed"
      },
      "source": [
        "test_eval = fashion_model.evaluate(test_X, test_Y_one_hot, verbose=1)\n"
      ],
      "execution_count": null,
      "outputs": [
        {
          "output_type": "stream",
          "text": [
            "313/313 [==============================] - 6s 19ms/step - loss: 0.2188 - accuracy: 0.9247\n"
          ],
          "name": "stdout"
        }
      ]
    },
    {
      "cell_type": "code",
      "metadata": {
        "id": "HejOWax37YKV",
        "colab": {
          "base_uri": "https://localhost:8080/"
        },
        "outputId": "413e803e-9f6a-4e1c-8d06-c2966df79335"
      },
      "source": [
        "print('Test loss:', test_eval[0])\n",
        "print('Test accuracy:', test_eval[1])"
      ],
      "execution_count": null,
      "outputs": [
        {
          "output_type": "stream",
          "text": [
            "Test loss: 0.2188134491443634\n",
            "Test accuracy: 0.9247000217437744\n"
          ],
          "name": "stdout"
        }
      ]
    },
    {
      "cell_type": "code",
      "metadata": {
        "id": "AY34tiTq7aAu",
        "colab": {
          "base_uri": "https://localhost:8080/",
          "height": 545
        },
        "outputId": "4ef7762b-255c-4c80-bacb-ff2258881ca2"
      },
      "source": [
        "accuracy = fashion_train_dropout.history['accuracy']\n",
        "val_accuracy = fashion_train_dropout.history['val_accuracy']\n",
        "loss = fashion_train_dropout.history['loss']\n",
        "val_loss = fashion_train_dropout.history['val_loss']\n",
        "epochs = range(len(accuracy))\n",
        "plt.plot(epochs, accuracy, 'bo', label='Training accuracy')\n",
        "plt.plot(epochs, val_accuracy, 'b', label='Validation accuracy')\n",
        "plt.title('Training and validation accuracy')\n",
        "plt.legend()\n",
        "plt.figure()\n",
        "plt.plot(epochs, loss, 'bo', label='Training loss')\n",
        "plt.plot(epochs, val_loss, 'b', label='Validation loss')\n",
        "plt.title('Training and validation loss')\n",
        "plt.legend()\n",
        "plt.show()"
      ],
      "execution_count": null,
      "outputs": [
        {
          "output_type": "display_data",
          "data": {
            "image/png": "[encoded data removed]",
            "text/plain": [
              "<Figure size 432x288 with 1 Axes>"
            ]
          },
          "metadata": {
            "tags": [],
            "needs_background": "light"
          }
        },
        {
          "output_type": "display_data",
          "data": {
            "image/png": "[encoded data removed]",
            "text/plain": [
              "<Figure size 432x288 with 1 Axes>"
            ]
          },
          "metadata": {
            "tags": [],
            "needs_background": "light"
          }
        }
      ]
    },
    {
      "cell_type": "code",
      "metadata": {
        "id": "wrWQlPcd7c_w"
      },
      "source": [
        "predicted_classes = fashion_model.predict(test_X)\n"
      ],
      "execution_count": null,
      "outputs": []
    },
    {
      "cell_type": "code",
      "metadata": {
        "id": "nfIGrvQ47fki"
      },
      "source": [
        "predicted_classes = np.argmax(np.round(predicted_classes),axis=1)\n"
      ],
      "execution_count": null,
      "outputs": []
    },
    {
      "cell_type": "code",
      "metadata": {
        "id": "ZbbqfO177haN",
        "colab": {
          "base_uri": "https://localhost:8080/",
          "height": 315
        },
        "outputId": "da90a594-9d28-4c44-dd59-496c8dd10b08"
      },
      "source": [
        "correct = np.where(predicted_classes==test_Y)[0]\n",
        "print (\"Found %d correct labels\" % len(correct))\n",
        "for i, correct in enumerate(correct[:9]):\n",
        "    plt.subplot(3,3,i+1)\n",
        "    plt.imshow(test_X[correct].reshape(28,28), cmap='gray', interpolation='none')\n",
        "    plt.title(\"Predicted {}, Class {}\".format(predicted_classes[correct], test_Y[correct]))\n",
        "    plt.tight_layout()"
      ],
      "execution_count": null,
      "outputs": [
        {
          "output_type": "stream",
          "text": [
            "Found 9209 correct labels\n"
          ],
          "name": "stdout"
        },
        {
          "output_type": "display_data",
          "data": {
            "image/png": "[encoded data removed]",
            "text/plain": [
              "<Figure size 432x288 with 9 Axes>"
            ]
          },
          "metadata": {
            "tags": [],
            "needs_background": "light"
          }
        }
      ]
    },
    {
      "cell_type": "code",
      "metadata": {
        "id": "NZXKuvpE7lGl",
        "colab": {
          "base_uri": "https://localhost:8080/",
          "height": 315
        },
        "outputId": "8aae5daf-4222-4513-a6e6-34f2c716ff24"
      },
      "source": [
        "incorrect = np.where(predicted_classes!=test_Y)[0]\n",
        "print (\"Found %d incorrect labels\" % len(incorrect))\n",
        "for i, incorrect in enumerate(incorrect[:9]):\n",
        "    plt.subplot(3,3,i+1)\n",
        "    plt.imshow(test_X[incorrect].reshape(28,28), cmap='gray', interpolation='none')\n",
        "    plt.title(\"Predicted {}, Class {}\".format(predicted_classes[incorrect], test_Y[incorrect]))\n",
        "    plt.tight_layout()"
      ],
      "execution_count": null,
      "outputs": [
        {
          "output_type": "stream",
          "text": [
            "Found 791 incorrect labels\n"
          ],
          "name": "stdout"
        },
        {
          "output_type": "display_data",
          "data": {
            "image/png": "[encoded data removed]",
            "text/plain": [
              "<Figure size 432x288 with 9 Axes>"
            ]
          },
          "metadata": {
            "tags": [],
            "needs_background": "light"
          }
        }
      ]
    },
    {
      "cell_type": "code",
      "metadata": {
        "id": "vxs2lD107ncR",
        "colab": {
          "base_uri": "https://localhost:8080/"
        },
        "outputId": "edcf5f1d-5404-40f7-8354-771f45a9cbc0"
      },
      "source": [
        "from sklearn.metrics import classification_report\n",
        "target_names = [\"Class {}\".format(i) for i in range(num_classes)]\n",
        "print(classification_report(test_Y, predicted_classes, target_names=target_names))"
      ],
      "execution_count": null,
      "outputs": [
        {
          "output_type": "stream",
          "text": [
            "              precision    recall  f1-score   support\n",
            "\n",
            "     Class 0       0.78      0.92      0.85      1000\n",
            "     Class 1       0.99      0.98      0.99      1000\n",
            "     Class 2       0.87      0.89      0.88      1000\n",
            "     Class 3       0.94      0.91      0.92      1000\n",
            "     Class 4       0.87      0.89      0.88      1000\n",
            "     Class 5       0.99      0.98      0.99      1000\n",
            "     Class 6       0.84      0.70      0.77      1000\n",
            "     Class 7       0.96      0.98      0.97      1000\n",
            "     Class 8       0.99      0.99      0.99      1000\n",
            "     Class 9       0.98      0.96      0.97      1000\n",
            "\n",
            "    accuracy                           0.92     10000\n",
            "   macro avg       0.92      0.92      0.92     10000\n",
            "weighted avg       0.92      0.92      0.92     10000\n",
            "\n"
          ],
          "name": "stdout"
        }
      ]
    },
    {
      "cell_type": "code",
      "metadata": {
        "id": "AUM1yZp_7q8O"
      },
      "source": [
        ""
      ],
      "execution_count": null,
      "outputs": []
    },
    {
      "cell_type": "code",
      "metadata": {
        "id": "LeezZ_pViofI",
        "colab": {
          "base_uri": "https://localhost:8080/",
          "height": 577
        },
        "outputId": "fe12591f-3782-4b98-efd5-6f6c83fe503b"
      },
      "source": [
        "plt.imshow(train_X[0])"
      ],
      "execution_count": null,
      "outputs": [
        {
          "output_type": "error",
          "ename": "TypeError",
          "evalue": "ignored",
          "traceback": [
            "\u001b[0;31m---------------------------------------------------------------------------\u001b[0m",
            "\u001b[0;31mTypeError\u001b[0m                                 Traceback (most recent call last)",
            "\u001b[0;32m<ipython-input-44-42cbf6ee8e5b>\u001b[0m in \u001b[0;36m<module>\u001b[0;34m()\u001b[0m\n\u001b[0;32m----> 1\u001b[0;31m \u001b[0mplt\u001b[0m\u001b[0;34m.\u001b[0m\u001b[0mimshow\u001b[0m\u001b[0;34m(\u001b[0m\u001b[0mtrain_X\u001b[0m\u001b[0;34m[\u001b[0m\u001b[0;36m0\u001b[0m\u001b[0;34m]\u001b[0m\u001b[0;34m)\u001b[0m\u001b[0;34m\u001b[0m\u001b[0;34m\u001b[0m\u001b[0m\n\u001b[0m",
            "\u001b[0;32m/usr/local/lib/python3.7/dist-packages/matplotlib/pyplot.py\u001b[0m in \u001b[0;36mimshow\u001b[0;34m(X, cmap, norm, aspect, interpolation, alpha, vmin, vmax, origin, extent, shape, filternorm, filterrad, imlim, resample, url, data, **kwargs)\u001b[0m\n\u001b[1;32m   2649\u001b[0m         \u001b[0mfilternorm\u001b[0m\u001b[0;34m=\u001b[0m\u001b[0mfilternorm\u001b[0m\u001b[0;34m,\u001b[0m \u001b[0mfilterrad\u001b[0m\u001b[0;34m=\u001b[0m\u001b[0mfilterrad\u001b[0m\u001b[0;34m,\u001b[0m \u001b[0mimlim\u001b[0m\u001b[0;34m=\u001b[0m\u001b[0mimlim\u001b[0m\u001b[0;34m,\u001b[0m\u001b[0;34m\u001b[0m\u001b[0;34m\u001b[0m\u001b[0m\n\u001b[1;32m   2650\u001b[0m         resample=resample, url=url, **({\"data\": data} if data is not\n\u001b[0;32m-> 2651\u001b[0;31m         None else {}), **kwargs)\n\u001b[0m\u001b[1;32m   2652\u001b[0m     \u001b[0msci\u001b[0m\u001b[0;34m(\u001b[0m\u001b[0m__ret\u001b[0m\u001b[0;34m)\u001b[0m\u001b[0;34m\u001b[0m\u001b[0;34m\u001b[0m\u001b[0m\n\u001b[1;32m   2653\u001b[0m     \u001b[0;32mreturn\u001b[0m \u001b[0m__ret\u001b[0m\u001b[0;34m\u001b[0m\u001b[0;34m\u001b[0m\u001b[0m\n",
            "\u001b[0;32m/usr/local/lib/python3.7/dist-packages/matplotlib/__init__.py\u001b[0m in \u001b[0;36minner\u001b[0;34m(ax, data, *args, **kwargs)\u001b[0m\n\u001b[1;32m   1563\u001b[0m     \u001b[0;32mdef\u001b[0m \u001b[0minner\u001b[0m\u001b[0;34m(\u001b[0m\u001b[0max\u001b[0m\u001b[0;34m,\u001b[0m \u001b[0;34m*\u001b[0m\u001b[0margs\u001b[0m\u001b[0;34m,\u001b[0m \u001b[0mdata\u001b[0m\u001b[0;34m=\u001b[0m\u001b[0;32mNone\u001b[0m\u001b[0;34m,\u001b[0m \u001b[0;34m**\u001b[0m\u001b[0mkwargs\u001b[0m\u001b[0;34m)\u001b[0m\u001b[0;34m:\u001b[0m\u001b[0;34m\u001b[0m\u001b[0;34m\u001b[0m\u001b[0m\n\u001b[1;32m   1564\u001b[0m         \u001b[0;32mif\u001b[0m \u001b[0mdata\u001b[0m \u001b[0;32mis\u001b[0m \u001b[0;32mNone\u001b[0m\u001b[0;34m:\u001b[0m\u001b[0;34m\u001b[0m\u001b[0;34m\u001b[0m\u001b[0m\n\u001b[0;32m-> 1565\u001b[0;31m             \u001b[0;32mreturn\u001b[0m \u001b[0mfunc\u001b[0m\u001b[0;34m(\u001b[0m\u001b[0max\u001b[0m\u001b[0;34m,\u001b[0m \u001b[0;34m*\u001b[0m\u001b[0mmap\u001b[0m\u001b[0;34m(\u001b[0m\u001b[0msanitize_sequence\u001b[0m\u001b[0;34m,\u001b[0m \u001b[0margs\u001b[0m\u001b[0;34m)\u001b[0m\u001b[0;34m,\u001b[0m \u001b[0;34m**\u001b[0m\u001b[0mkwargs\u001b[0m\u001b[0;34m)\u001b[0m\u001b[0;34m\u001b[0m\u001b[0;34m\u001b[0m\u001b[0m\n\u001b[0m\u001b[1;32m   1566\u001b[0m \u001b[0;34m\u001b[0m\u001b[0m\n\u001b[1;32m   1567\u001b[0m         \u001b[0mbound\u001b[0m \u001b[0;34m=\u001b[0m \u001b[0mnew_sig\u001b[0m\u001b[0;34m.\u001b[0m\u001b[0mbind\u001b[0m\u001b[0;34m(\u001b[0m\u001b[0max\u001b[0m\u001b[0;34m,\u001b[0m \u001b[0;34m*\u001b[0m\u001b[0margs\u001b[0m\u001b[0;34m,\u001b[0m \u001b[0;34m**\u001b[0m\u001b[0mkwargs\u001b[0m\u001b[0;34m)\u001b[0m\u001b[0;34m\u001b[0m\u001b[0;34m\u001b[0m\u001b[0m\n",
            "\u001b[0;32m/usr/local/lib/python3.7/dist-packages/matplotlib/cbook/deprecation.py\u001b[0m in \u001b[0;36mwrapper\u001b[0;34m(*args, **kwargs)\u001b[0m\n\u001b[1;32m    356\u001b[0m                 \u001b[0;34mf\"%(removal)s.  If any parameter follows {name!r}, they \"\u001b[0m\u001b[0;34m\u001b[0m\u001b[0;34m\u001b[0m\u001b[0m\n\u001b[1;32m    357\u001b[0m                 f\"should be pass as keyword, not positionally.\")\n\u001b[0;32m--> 358\u001b[0;31m         \u001b[0;32mreturn\u001b[0m \u001b[0mfunc\u001b[0m\u001b[0;34m(\u001b[0m\u001b[0;34m*\u001b[0m\u001b[0margs\u001b[0m\u001b[0;34m,\u001b[0m \u001b[0;34m**\u001b[0m\u001b[0mkwargs\u001b[0m\u001b[0;34m)\u001b[0m\u001b[0;34m\u001b[0m\u001b[0;34m\u001b[0m\u001b[0m\n\u001b[0m\u001b[1;32m    359\u001b[0m \u001b[0;34m\u001b[0m\u001b[0m\n\u001b[1;32m    360\u001b[0m     \u001b[0;32mreturn\u001b[0m \u001b[0mwrapper\u001b[0m\u001b[0;34m\u001b[0m\u001b[0;34m\u001b[0m\u001b[0m\n",
            "\u001b[0;32m/usr/local/lib/python3.7/dist-packages/matplotlib/cbook/deprecation.py\u001b[0m in \u001b[0;36mwrapper\u001b[0;34m(*args, **kwargs)\u001b[0m\n\u001b[1;32m    356\u001b[0m                 \u001b[0;34mf\"%(removal)s.  If any parameter follows {name!r}, they \"\u001b[0m\u001b[0;34m\u001b[0m\u001b[0;34m\u001b[0m\u001b[0m\n\u001b[1;32m    357\u001b[0m                 f\"should be pass as keyword, not positionally.\")\n\u001b[0;32m--> 358\u001b[0;31m         \u001b[0;32mreturn\u001b[0m \u001b[0mfunc\u001b[0m\u001b[0;34m(\u001b[0m\u001b[0;34m*\u001b[0m\u001b[0margs\u001b[0m\u001b[0;34m,\u001b[0m \u001b[0;34m**\u001b[0m\u001b[0mkwargs\u001b[0m\u001b[0;34m)\u001b[0m\u001b[0;34m\u001b[0m\u001b[0;34m\u001b[0m\u001b[0m\n\u001b[0m\u001b[1;32m    359\u001b[0m \u001b[0;34m\u001b[0m\u001b[0m\n\u001b[1;32m    360\u001b[0m     \u001b[0;32mreturn\u001b[0m \u001b[0mwrapper\u001b[0m\u001b[0;34m\u001b[0m\u001b[0;34m\u001b[0m\u001b[0m\n",
            "\u001b[0;32m/usr/local/lib/python3.7/dist-packages/matplotlib/axes/_axes.py\u001b[0m in \u001b[0;36mimshow\u001b[0;34m(self, X, cmap, norm, aspect, interpolation, alpha, vmin, vmax, origin, extent, shape, filternorm, filterrad, imlim, resample, url, **kwargs)\u001b[0m\n\u001b[1;32m   5624\u001b[0m                               resample=resample, **kwargs)\n\u001b[1;32m   5625\u001b[0m \u001b[0;34m\u001b[0m\u001b[0m\n\u001b[0;32m-> 5626\u001b[0;31m         \u001b[0mim\u001b[0m\u001b[0;34m.\u001b[0m\u001b[0mset_data\u001b[0m\u001b[0;34m(\u001b[0m\u001b[0mX\u001b[0m\u001b[0;34m)\u001b[0m\u001b[0;34m\u001b[0m\u001b[0;34m\u001b[0m\u001b[0m\n\u001b[0m\u001b[1;32m   5627\u001b[0m         \u001b[0mim\u001b[0m\u001b[0;34m.\u001b[0m\u001b[0mset_alpha\u001b[0m\u001b[0;34m(\u001b[0m\u001b[0malpha\u001b[0m\u001b[0;34m)\u001b[0m\u001b[0;34m\u001b[0m\u001b[0;34m\u001b[0m\u001b[0m\n\u001b[1;32m   5628\u001b[0m         \u001b[0;32mif\u001b[0m \u001b[0mim\u001b[0m\u001b[0;34m.\u001b[0m\u001b[0mget_clip_path\u001b[0m\u001b[0;34m(\u001b[0m\u001b[0;34m)\u001b[0m \u001b[0;32mis\u001b[0m \u001b[0;32mNone\u001b[0m\u001b[0;34m:\u001b[0m\u001b[0;34m\u001b[0m\u001b[0;34m\u001b[0m\u001b[0m\n",
            "\u001b[0;32m/usr/local/lib/python3.7/dist-packages/matplotlib/image.py\u001b[0m in \u001b[0;36mset_data\u001b[0;34m(self, A)\u001b[0m\n\u001b[1;32m    697\u001b[0m                 or self._A.ndim == 3 and self._A.shape[-1] in [3, 4]):\n\u001b[1;32m    698\u001b[0m             raise TypeError(\"Invalid shape {} for image data\"\n\u001b[0;32m--> 699\u001b[0;31m                             .format(self._A.shape))\n\u001b[0m\u001b[1;32m    700\u001b[0m \u001b[0;34m\u001b[0m\u001b[0m\n\u001b[1;32m    701\u001b[0m         \u001b[0;32mif\u001b[0m \u001b[0mself\u001b[0m\u001b[0;34m.\u001b[0m\u001b[0m_A\u001b[0m\u001b[0;34m.\u001b[0m\u001b[0mndim\u001b[0m \u001b[0;34m==\u001b[0m \u001b[0;36m3\u001b[0m\u001b[0;34m:\u001b[0m\u001b[0;34m\u001b[0m\u001b[0;34m\u001b[0m\u001b[0m\n",
            "\u001b[0;31mTypeError\u001b[0m: Invalid shape (28, 28, 1) for image data"
          ]
        },
        {
          "output_type": "display_data",
          "data": {
            "image/png": "[encoded data removed]",
            "text/plain": [
              "<Figure size 432x288 with 1 Axes>"
            ]
          },
          "metadata": {
            "tags": [],
            "needs_background": "light"
          }
        }
      ]
    },
    {
      "cell_type": "code",
      "metadata": {
        "id": "Blcg4bZfirzH"
      },
      "source": [
        "smallBlur = np.ones((7, 7), dtype=\"float\") * (1.0 / (7 * 7))"
      ],
      "execution_count": null,
      "outputs": []
    },
    {
      "cell_type": "code",
      "metadata": {
        "id": "r3oa6fFpivaJ"
      },
      "source": [
        "import cv2"
      ],
      "execution_count": null,
      "outputs": []
    },
    {
      "cell_type": "code",
      "metadata": {
        "id": "kfwBRsILj4yE"
      },
      "source": [
        "im = Image.open( 'myBike.png' )\n",
        "im.show()"
      ],
      "execution_count": null,
      "outputs": []
    },
    {
      "cell_type": "code",
      "metadata": {
        "id": "qpdlx-xhjB_b"
      },
      "source": [
        ""
      ],
      "execution_count": null,
      "outputs": []
    },
    {
      "cell_type": "code",
      "metadata": {
        "id": "xZ6VBOUKjVmC"
      },
      "source": [
        ""
      ],
      "execution_count": null,
      "outputs": []
    }
  ]
}