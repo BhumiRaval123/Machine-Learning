{
  "nbformat": 4,
  "nbformat_minor": 0,
  "metadata": {
    "colab": {
      "name": "ESEPRAC.ipynb",
      "provenance": [],
      "collapsed_sections": [],
      "include_colab_link": true
    },
    "kernelspec": {
      "display_name": "Python 3",
      "name": "python3"
    },
    "language_info": {
      "name": "python"
    }
  },
  "cells": [
    {
      "cell_type": "markdown",
      "metadata": {
        "id": "view-in-github",
        "colab_type": "text"
      },
      "source": [
        "<a href=\"https://colab.research.google.com/github/BhumiRaval123/Machine-Learning/blob/main/ESEPRAC.ipynb\" target=\"_parent\"><img src=\"https://colab.research.google.com/assets/colab-badge.svg\" alt=\"Open In Colab\"/></a>"
      ]
    },
    {
      "cell_type": "markdown",
      "metadata": {
        "id": "ZteXU7fj8eOi"
      },
      "source": [
        "Question-1"
      ]
    },
    {
      "cell_type": "code",
      "metadata": {
        "id": "XyiADHDtep9O"
      },
      "source": [
        "import numpy as np\n",
        "import matplotlib.pyplot as plt\n",
        "import pandas as pd"
      ],
      "execution_count": null,
      "outputs": []
    },
    {
      "cell_type": "code",
      "metadata": {
        "id": "YiL6SK-JHFrY"
      },
      "source": [
        "from google.colab import drive"
      ],
      "execution_count": null,
      "outputs": []
    },
    {
      "cell_type": "code",
      "metadata": {
        "colab": {
          "base_uri": "https://localhost:8080/"
        },
        "id": "-0gotJeKHHaP",
        "outputId": "a0c2ac02-1294-4348-c5f6-9a99ca0f7f94"
      },
      "source": [
        "drive.mount('/content/drive')"
      ],
      "execution_count": null,
      "outputs": [
        {
          "output_type": "stream",
          "text": [
            "Mounted at /content/drive\n"
          ],
          "name": "stdout"
        }
      ]
    },
    {
      "cell_type": "code",
      "metadata": {
        "colab": {
          "base_uri": "https://localhost:8080/"
        },
        "id": "zQAkug9nHI39",
        "outputId": "a87011f4-2d7b-4457-8cb0-e76fe746bcb8"
      },
      "source": [
        "cd /content/drive/\"My Drive/Colab Notebooks\""
      ],
      "execution_count": null,
      "outputs": [
        {
          "output_type": "stream",
          "text": [
            "/content/drive/My Drive/Colab Notebooks\n"
          ],
          "name": "stdout"
        }
      ]
    },
    {
      "cell_type": "code",
      "metadata": {
        "colab": {
          "base_uri": "https://localhost:8080/"
        },
        "id": "UT8qBiWZHZSh",
        "outputId": "11d7229c-04ee-4400-84d4-a42ea0c94d21"
      },
      "source": [
        "\n",
        "col_names=['s1','c1','s2','c2','s3','c3','s4','c4','s5','c5','classes' ]\n",
        "dataset = pd.read_csv(\"poker-hand-training-true.data\",names=col_names)\n",
        "print(dataset)\n",
        "dataset.shape"
      ],
      "execution_count": null,
      "outputs": [
        {
          "output_type": "stream",
          "text": [
            "       s1  c1  s2  c2  s3  c3  s4  c4  s5  c5  classes\n",
            "0       1  10   1  11   1  13   1  12   1   1        9\n",
            "1       2  11   2  13   2  10   2  12   2   1        9\n",
            "2       3  12   3  11   3  13   3  10   3   1        9\n",
            "3       4  10   4  11   4   1   4  13   4  12        9\n",
            "4       4   1   4  13   4  12   4  11   4  10        9\n",
            "...    ..  ..  ..  ..  ..  ..  ..  ..  ..  ..      ...\n",
            "25005   3   9   2   6   4  11   4  12   2   4        0\n",
            "25006   4   1   4  10   3  13   3   4   1  10        1\n",
            "25007   2   1   2  10   4   4   4   1   4  13        1\n",
            "25008   2  12   4   3   1  10   1  12   4   9        1\n",
            "25009   1   7   3  11   3   3   4   8   3   7        1\n",
            "\n",
            "[25010 rows x 11 columns]\n"
          ],
          "name": "stdout"
        },
        {
          "output_type": "execute_result",
          "data": {
            "text/plain": [
              "(25010, 11)"
            ]
          },
          "metadata": {
            "tags": []
          },
          "execution_count": 8
        }
      ]
    },
    {
      "cell_type": "code",
      "metadata": {
        "colab": {
          "base_uri": "https://localhost:8080/"
        },
        "id": "sgaC6WMxHorq",
        "outputId": "60d136d7-bce1-4d43-b892-50c8bf775195"
      },
      "source": [
        "dataset_test = pd.read_csv(\"poker-hand-testing.data\",names=col_names)\n",
        "print(dataset_test)\n",
        "dataset_test.shape"
      ],
      "execution_count": null,
      "outputs": [
        {
          "output_type": "stream",
          "text": [
            "        s1  c1  s2  c2  s3  c3  s4  c4  s5  c5  classes\n",
            "0        1   1   1  13   2   4   2   3   1  12        0\n",
            "1        3  12   3   2   3  11   4   5   2   5        1\n",
            "2        1   9   4   6   1   4   3   2   3   9        1\n",
            "3        1   4   3  13   2  13   2   1   3   6        1\n",
            "4        3  10   2   7   1   2   2  11   4   9        0\n",
            "...     ..  ..  ..  ..  ..  ..  ..  ..  ..  ..      ...\n",
            "999995   3   1   1  12   2   9   4   9   2   6        1\n",
            "999996   3   3   4   5   2   7   1   4   4   3        1\n",
            "999997   1  11   4   7   3   9   1  13   2   7        1\n",
            "999998   3  11   1   8   1   1   3  13   2   8        1\n",
            "999999   2   5   2   9   4   9   2   3   3   3        2\n",
            "\n",
            "[1000000 rows x 11 columns]\n"
          ],
          "name": "stdout"
        },
        {
          "output_type": "execute_result",
          "data": {
            "text/plain": [
              "(1000000, 11)"
            ]
          },
          "metadata": {
            "tags": []
          },
          "execution_count": 9
        }
      ]
    },
    {
      "cell_type": "code",
      "metadata": {
        "colab": {
          "base_uri": "https://localhost:8080/"
        },
        "id": "LyZ5zFL15Mo0",
        "outputId": "a6f86f10-da90-41d8-dbd9-455b163d0190"
      },
      "source": [
        "# Data visulization\n",
        "\n",
        "no_class = 10  # we have 10 classes of poker hands\n",
        "cls = {}\n",
        "for i in range(no_class):\n",
        "    cls[i] = len(dataset[dataset.classes==i])\n",
        "print(cls)\n",
        "\n",
        "# Giving name to diferent class to visulize it\n",
        "poker_hands = [0, 1, 2, 3, 4, 5, 6, 7, 8, 9]\n",
        "hand_name = {\n",
        "    0: 'Nothing in hand',\n",
        "    1: 'One pair',\n",
        "    2: 'Two pairs',\n",
        "    3: 'Three of a kind',\n",
        "    4: 'Straight',\n",
        "    5: 'Flush',\n",
        "    6: 'Full house',\n",
        "    7: 'Four of a kind',\n",
        "    8: 'Straight flush',\n",
        "    9: 'Royal flush',\n",
        "}"
      ],
      "execution_count": null,
      "outputs": [
        {
          "output_type": "stream",
          "text": [
            "{0: 12493, 1: 10599, 2: 1206, 3: 513, 4: 93, 5: 54, 6: 36, 7: 6, 8: 5, 9: 5}\n"
          ],
          "name": "stdout"
        }
      ]
    },
    {
      "cell_type": "code",
      "metadata": {
        "colab": {
          "base_uri": "https://localhost:8080/"
        },
        "id": "vKzJdSrl5py_",
        "outputId": "d95d79a8-aa10-4944-a54b-7bb275d03d7f"
      },
      "source": [
        "for i in poker_hands:\n",
        "    print(\"%s: %d\" % (hand_name[i], cls[i]))"
      ],
      "execution_count": null,
      "outputs": [
        {
          "output_type": "stream",
          "text": [
            "Nothing in hand: 12493\n",
            "One pair: 10599\n",
            "Two pairs: 1206\n",
            "Three of a kind: 513\n",
            "Straight: 93\n",
            "Flush: 54\n",
            "Full house: 36\n",
            "Four of a kind: 6\n",
            "Straight flush: 5\n",
            "Royal flush: 5\n"
          ],
          "name": "stdout"
        }
      ]
    },
    {
      "cell_type": "code",
      "metadata": {
        "colab": {
          "base_uri": "https://localhost:8080/",
          "height": 297
        },
        "id": "LSVuOiAu5clR",
        "outputId": "d6aa5970-4f24-45aa-e497-8a5847880dcb"
      },
      "source": [
        "plt.bar(poker_hands, [cls[i] for i in poker_hands], align='center')\n",
        "plt.xlabel('Poker hand id')\n",
        "plt.ylabel('Number of instances')"
      ],
      "execution_count": null,
      "outputs": [
        {
          "output_type": "execute_result",
          "data": {
            "text/plain": [
              "Text(0, 0.5, 'Number of instances')"
            ]
          },
          "metadata": {
            "tags": []
          },
          "execution_count": 13
        },
        {
          "output_type": "display_data",
          "data": {
            "image/png": "[encoded data removed]",
            "text/plain": [
              "<Figure size 432x288 with 1 Axes>"
            ]
          },
          "metadata": {
            "tags": []
          }
        }
      ]
    },
    {
      "cell_type": "code",
      "metadata": {
        "id": "1Xr_uyOZL9yV"
      },
      "source": [
        "# taking Species name in y and all other in x variable\n",
        "x = dataset.drop(['classes'], axis=1)\n",
        "y = dataset['classes']"
      ],
      "execution_count": null,
      "outputs": []
    },
    {
      "cell_type": "code",
      "metadata": {
        "id": "dOHgrVpcLzpn"
      },
      "source": [
        "# spliting data in train and test dataset \n",
        "from sklearn.model_selection import train_test_split\n",
        "X_train, X_test, y_train, y_test = train_test_split(x, y, test_size = 0.33, random_state=110) # here 33% dataset will be of testing and 67% will be for training"
      ],
      "execution_count": null,
      "outputs": []
    },
    {
      "cell_type": "markdown",
      "metadata": {
        "id": "QZqVp48E7TY9"
      },
      "source": [
        "As this problem is of classification and having more then 2 class so it is better that we should go with KNN classifier if will use Logistic then we have to apply one hot encoding or use one v/s all algorithm so better then that will direct use some other classification technique "
      ]
    },
    {
      "cell_type": "code",
      "metadata": {
        "id": "HiztGRBOMzYz"
      },
      "source": [
        "from sklearn.neighbors import KNeighborsClassifier\n",
        "\n",
        "knc = KNeighborsClassifier(8, p=8)"
      ],
      "execution_count": null,
      "outputs": []
    },
    {
      "cell_type": "code",
      "metadata": {
        "colab": {
          "base_uri": "https://localhost:8080/"
        },
        "id": "sISFxOVqM1oN",
        "outputId": "d94373a9-0174-4932-dc20-ce96d894381b"
      },
      "source": [
        "knc.fit(X_train, y_train)"
      ],
      "execution_count": null,
      "outputs": [
        {
          "output_type": "execute_result",
          "data": {
            "text/plain": [
              "KNeighborsClassifier(algorithm='auto', leaf_size=30, metric='minkowski',\n",
              "                     metric_params=None, n_jobs=None, n_neighbors=8, p=8,\n",
              "                     weights='uniform')"
            ]
          },
          "metadata": {
            "tags": []
          },
          "execution_count": 19
        }
      ]
    },
    {
      "cell_type": "code",
      "metadata": {
        "colab": {
          "base_uri": "https://localhost:8080/"
        },
        "id": "ychSne6OM2TX",
        "outputId": "e9e131fa-9b04-4b6b-a723-f6f06dfaab07"
      },
      "source": [
        "# printing of classification report\n",
        "from sklearn.metrics import classification_report, confusion_matrix, f1_score\n",
        "print(classification_report(y_test, knc.predict(X_test)))"
      ],
      "execution_count": null,
      "outputs": [
        {
          "output_type": "stream",
          "text": [
            "              precision    recall  f1-score   support\n",
            "\n",
            "           0       0.59      0.77      0.67      4120\n",
            "           1       0.53      0.43      0.48      3498\n",
            "           2       0.32      0.02      0.04       395\n",
            "           3       0.38      0.02      0.03       180\n",
            "           4       0.00      0.00      0.00        34\n",
            "           5       0.00      0.00      0.00        11\n",
            "           6       0.00      0.00      0.00         9\n",
            "           7       0.00      0.00      0.00         4\n",
            "           8       0.00      0.00      0.00         2\n",
            "           9       0.00      0.00      0.00         1\n",
            "\n",
            "    accuracy                           0.57      8254\n",
            "   macro avg       0.18      0.12      0.12      8254\n",
            "weighted avg       0.54      0.57      0.54      8254\n",
            "\n"
          ],
          "name": "stdout"
        },
        {
          "output_type": "stream",
          "text": [
            "/usr/local/lib/python3.7/dist-packages/sklearn/metrics/_classification.py:1272: UndefinedMetricWarning: Precision and F-score are ill-defined and being set to 0.0 in labels with no predicted samples. Use `zero_division` parameter to control this behavior.\n",
            "  _warn_prf(average, modifier, msg_start, len(result))\n"
          ],
          "name": "stderr"
        }
      ]
    },
    {
      "cell_type": "markdown",
      "metadata": {
        "id": "UXfjzgmO_N-Z"
      },
      "source": [
        "we can see in abover table we are getting overall 56% accuracy while for diffrent set accuracy is present in above graph"
      ]
    },
    {
      "cell_type": "markdown",
      "metadata": {
        "id": "hx81ZwKx_d_c"
      },
      "source": [
        "Now for testing dataset"
      ]
    },
    {
      "cell_type": "code",
      "metadata": {
        "id": "fejHfb0o_-H2"
      },
      "source": [
        "x_test_data = dataset_test.drop(['classes'], axis=1)\n",
        "y_test_data = dataset_test['classes']"
      ],
      "execution_count": null,
      "outputs": []
    },
    {
      "cell_type": "code",
      "metadata": {
        "colab": {
          "background_save": true
        },
        "id": "Q4EsqeAF_mLe",
        "outputId": "aa16c587-e5ec-40a2-af27-0522aa42b905"
      },
      "source": [
        "from sklearn.metrics import classification_report, confusion_matrix, f1_score\n",
        "print(classification_report(y_test_data, knc.predict(x_test_data)))"
      ],
      "execution_count": null,
      "outputs": [
        {
          "output_type": "stream",
          "text": [
            "/usr/local/lib/python3.7/dist-packages/sklearn/metrics/_classification.py:1272: UndefinedMetricWarning: Precision and F-score are ill-defined and being set to 0.0 in labels with no predicted samples. Use `zero_division` parameter to control this behavior.\n",
            "  _warn_prf(average, modifier, msg_start, len(result))\n"
          ],
          "name": "stderr"
        },
        {
          "output_type": "stream",
          "text": [
            "              precision    recall  f1-score   support\n",
            "\n",
            "           0       0.58      0.76      0.66    501209\n",
            "           1       0.52      0.42      0.47    422498\n",
            "           2       0.23      0.02      0.03     47622\n",
            "           3       0.18      0.01      0.01     21121\n",
            "           4       0.04      0.00      0.00      3885\n",
            "           5       0.00      0.00      0.00      1996\n",
            "           6       1.00      0.00      0.00      1424\n",
            "           7       0.00      0.00      0.00       230\n",
            "           8       0.00      0.00      0.00        12\n",
            "           9       0.00      0.00      0.00         3\n",
            "\n",
            "    accuracy                           0.56   1000000\n",
            "   macro avg       0.26      0.12      0.12   1000000\n",
            "weighted avg       0.53      0.56      0.53   1000000\n",
            "\n"
          ],
          "name": "stdout"
        }
      ]
    }
  ]
}