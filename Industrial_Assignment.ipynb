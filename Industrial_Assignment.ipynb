{
  "nbformat": 4,
  "nbformat_minor": 0,
  "metadata": {
    "colab": {
      "name": "Industrial_Assignment.ipynb",
      "provenance": [],
      "collapsed_sections": [],
      "include_colab_link": true
    },
    "kernelspec": {
      "name": "python3",
      "display_name": "Python 3"
    },
    "language_info": {
      "name": "python"
    }
  },
  "cells": [
    {
      "cell_type": "markdown",
      "metadata": {
        "id": "view-in-github",
        "colab_type": "text"
      },
      "source": [
        "<a href=\"https://colab.research.google.com/github/BhumiRaval123/Machine-Learning/blob/main/Industrial_Assignment.ipynb\" target=\"_parent\"><img src=\"https://colab.research.google.com/assets/colab-badge.svg\" alt=\"Open In Colab\"/></a>"
      ]
    },
    {
      "cell_type": "markdown",
      "metadata": {
        "id": "3_FhQYO65xnz"
      },
      "source": [
        "\n",
        "\n",
        "```\n",
        "# This is formatted as code\n",
        "```\n",
        "\n",
        "**Import Libraries**"
      ]
    },
    {
      "cell_type": "code",
      "metadata": {
        "id": "9ZjrkA8F4W3n"
      },
      "source": [
        "import pandas as pd\n",
        "import numpy as np\n",
        "import matplotlib.pyplot as plt\n",
        "import seaborn as sns\n",
        "import re\n",
        "import nltk\n",
        "import warnings\n",
        "warnings.filterwarnings('ignore')\n",
        "from scipy.sparse import hstack, csr_matrix"
      ],
      "execution_count": 1,
      "outputs": []
    },
    {
      "cell_type": "code",
      "metadata": {
        "id": "tMUgdpXX8hkU"
      },
      "source": [
        "from google.colab import drive #to import google drive data"
      ],
      "execution_count": 3,
      "outputs": []
    },
    {
      "cell_type": "code",
      "metadata": {
        "colab": {
          "base_uri": "https://localhost:8080/"
        },
        "id": "IKUMSXI-5uzb",
        "outputId": "04f7e945-178d-4e6a-941a-a0d8a65006fe"
      },
      "source": [
        "drive.mount('/content/drive') #to mount the drive data into colab clound and enter the activation code"
      ],
      "execution_count": 4,
      "outputs": [
        {
          "output_type": "stream",
          "text": [
            "Mounted at /content/drive\n"
          ],
          "name": "stdout"
        }
      ]
    },
    {
      "cell_type": "code",
      "metadata": {
        "colab": {
          "base_uri": "https://localhost:8080/"
        },
        "id": "Xt5rd41q8exI",
        "outputId": "b1ad80bf-110a-4eb2-f4f9-4a3531d17207"
      },
      "source": [
        "cd /content/drive/\"My Drive/Colab Notebooks\""
      ],
      "execution_count": 5,
      "outputs": [
        {
          "output_type": "stream",
          "text": [
            "/content/drive/My Drive/Colab Notebooks\n"
          ],
          "name": "stdout"
        }
      ]
    },
    {
      "cell_type": "markdown",
      "metadata": {
        "id": "yq-aifAI8-yM"
      },
      "source": [
        "**Importing Database**"
      ]
    },
    {
      "cell_type": "code",
      "metadata": {
        "id": "iApSIveV8qRE"
      },
      "source": [
        "train = pd.read_csv('Final_Train_Dataset.csv')\n",
        "test = pd.read_csv('Final_Test_Dataset.csv')"
      ],
      "execution_count": 6,
      "outputs": []
    },
    {
      "cell_type": "code",
      "metadata": {
        "colab": {
          "base_uri": "https://localhost:8080/",
          "height": 328
        },
        "id": "CMXEVh0a87cM",
        "outputId": "6738362b-5e42-4e31-ea89-f3c17a52c34d"
      },
      "source": [
        "train.head()"
      ],
      "execution_count": 7,
      "outputs": [
        {
          "output_type": "execute_result",
          "data": {
            "text/html": [
              "<div>\n",
              "<style scoped>\n",
              "    .dataframe tbody tr th:only-of-type {\n",
              "        vertical-align: middle;\n",
              "    }\n",
              "\n",
              "    .dataframe tbody tr th {\n",
              "        vertical-align: top;\n",
              "    }\n",
              "\n",
              "    .dataframe thead th {\n",
              "        text-align: right;\n",
              "    }\n",
              "</style>\n",
              "<table border=\"1\" class=\"dataframe\">\n",
              "  <thead>\n",
              "    <tr style=\"text-align: right;\">\n",
              "      <th></th>\n",
              "      <th>Unnamed: 0</th>\n",
              "      <th>experience</th>\n",
              "      <th>job_description</th>\n",
              "      <th>job_desig</th>\n",
              "      <th>job_type</th>\n",
              "      <th>key_skills</th>\n",
              "      <th>location</th>\n",
              "      <th>salary</th>\n",
              "      <th>company_name_encoded</th>\n",
              "    </tr>\n",
              "  </thead>\n",
              "  <tbody>\n",
              "    <tr>\n",
              "      <th>0</th>\n",
              "      <td>0</td>\n",
              "      <td>5-7 yrs</td>\n",
              "      <td>Exp: Minimum 5 years;Good understanding of IOC...</td>\n",
              "      <td>Senior Exploit and Vulnerability Researcher</td>\n",
              "      <td>NaN</td>\n",
              "      <td>team skills, communication skills, analytical ...</td>\n",
              "      <td>Delhi NCR(Vikas Puri)</td>\n",
              "      <td>6to10</td>\n",
              "      <td>3687</td>\n",
              "    </tr>\n",
              "    <tr>\n",
              "      <th>1</th>\n",
              "      <td>1</td>\n",
              "      <td>10-17 yrs</td>\n",
              "      <td>He should have handled a team of atleast 5-6 d...</td>\n",
              "      <td>Head SCM</td>\n",
              "      <td>NaN</td>\n",
              "      <td>ppc, logistics, inventory management, supply c...</td>\n",
              "      <td>Sonepat</td>\n",
              "      <td>10to15</td>\n",
              "      <td>458</td>\n",
              "    </tr>\n",
              "    <tr>\n",
              "      <th>2</th>\n",
              "      <td>2</td>\n",
              "      <td>5-9 yrs</td>\n",
              "      <td>Must be an effective communicator (written &amp; s...</td>\n",
              "      <td>Deputy Manager - Talent Management &amp; Leadershi...</td>\n",
              "      <td>Analytics</td>\n",
              "      <td>HR Analytics, Employee Engagement, Training, S...</td>\n",
              "      <td>Delhi NCR</td>\n",
              "      <td>15to25</td>\n",
              "      <td>4195</td>\n",
              "    </tr>\n",
              "    <tr>\n",
              "      <th>3</th>\n",
              "      <td>3</td>\n",
              "      <td>7-10 yrs</td>\n",
              "      <td>7  -  10 years of overall experience in data e...</td>\n",
              "      <td>Associate Manager Data Engineering</td>\n",
              "      <td>Analytics</td>\n",
              "      <td>SQL, Javascript, Automation, Python, Ruby, Ana...</td>\n",
              "      <td>Bengaluru</td>\n",
              "      <td>10to15</td>\n",
              "      <td>313</td>\n",
              "    </tr>\n",
              "    <tr>\n",
              "      <th>4</th>\n",
              "      <td>4</td>\n",
              "      <td>1-3 yrs</td>\n",
              "      <td>Chartered Accountancy degree or MBA in Finance...</td>\n",
              "      <td>TS- GSA- Senior Analyst</td>\n",
              "      <td>NaN</td>\n",
              "      <td>accounting, finance, cash flow, financial plan...</td>\n",
              "      <td>Gurgaon</td>\n",
              "      <td>3to6</td>\n",
              "      <td>1305</td>\n",
              "    </tr>\n",
              "  </tbody>\n",
              "</table>\n",
              "</div>"
            ],
            "text/plain": [
              "   Unnamed: 0 experience  ...  salary company_name_encoded\n",
              "0           0    5-7 yrs  ...   6to10                 3687\n",
              "1           1  10-17 yrs  ...  10to15                  458\n",
              "2           2    5-9 yrs  ...  15to25                 4195\n",
              "3           3   7-10 yrs  ...  10to15                  313\n",
              "4           4    1-3 yrs  ...    3to6                 1305\n",
              "\n",
              "[5 rows x 9 columns]"
            ]
          },
          "metadata": {
            "tags": []
          },
          "execution_count": 7
        }
      ]
    },
    {
      "cell_type": "code",
      "metadata": {
        "colab": {
          "base_uri": "https://localhost:8080/",
          "height": 293
        },
        "id": "vKAW_cjc9CVZ",
        "outputId": "71c9e228-aab5-495d-e4c8-066e177c44cf"
      },
      "source": [
        "test.head()"
      ],
      "execution_count": 8,
      "outputs": [
        {
          "output_type": "execute_result",
          "data": {
            "text/html": [
              "<div>\n",
              "<style scoped>\n",
              "    .dataframe tbody tr th:only-of-type {\n",
              "        vertical-align: middle;\n",
              "    }\n",
              "\n",
              "    .dataframe tbody tr th {\n",
              "        vertical-align: top;\n",
              "    }\n",
              "\n",
              "    .dataframe thead th {\n",
              "        text-align: right;\n",
              "    }\n",
              "</style>\n",
              "<table border=\"1\" class=\"dataframe\">\n",
              "  <thead>\n",
              "    <tr style=\"text-align: right;\">\n",
              "      <th></th>\n",
              "      <th>experience</th>\n",
              "      <th>job_description</th>\n",
              "      <th>job_desig</th>\n",
              "      <th>job_type</th>\n",
              "      <th>key_skills</th>\n",
              "      <th>location</th>\n",
              "      <th>company_name_encoded</th>\n",
              "    </tr>\n",
              "  </thead>\n",
              "  <tbody>\n",
              "    <tr>\n",
              "      <th>0</th>\n",
              "      <td>7-12 yrs</td>\n",
              "      <td>Professional experience in Java/J2EE based ser...</td>\n",
              "      <td>IT Technology Senior Consultant/java/ J2ee/ Se...</td>\n",
              "      <td>NaN</td>\n",
              "      <td>Java, J2Ee, Tomcat, JBoss, Weblogic, Oracle, E...</td>\n",
              "      <td>Bengaluru</td>\n",
              "      <td>2066</td>\n",
              "    </tr>\n",
              "    <tr>\n",
              "      <th>1</th>\n",
              "      <td>0-5 yrs</td>\n",
              "      <td>We are looking for 20+ Fresher/Experienced Can...</td>\n",
              "      <td>Medical Billing Process | International KPO | ...</td>\n",
              "      <td>NaN</td>\n",
              "      <td>Medical Billing, Insurance Processing</td>\n",
              "      <td>Ahmedabad(Sola)</td>\n",
              "      <td>2629</td>\n",
              "    </tr>\n",
              "    <tr>\n",
              "      <th>2</th>\n",
              "      <td>3-6 yrs</td>\n",
              "      <td>Should understand overall integration framewor...</td>\n",
              "      <td>Oracle Sales Cloud Functional Consultant</td>\n",
              "      <td>NaN</td>\n",
              "      <td>Oracle Sales, Functional Consultancy, Troubles...</td>\n",
              "      <td>Bengaluru</td>\n",
              "      <td>2448</td>\n",
              "    </tr>\n",
              "    <tr>\n",
              "      <th>3</th>\n",
              "      <td>0-3 yrs</td>\n",
              "      <td>NaN</td>\n",
              "      <td>Looking For Freshers WHO WANT To Work WITH US</td>\n",
              "      <td>NaN</td>\n",
              "      <td>offline, online, internet, part time, home bas...</td>\n",
              "      <td>Delhi NCR, Chennai, Hyderabad, Gurgaon, Luckno...</td>\n",
              "      <td>2711</td>\n",
              "    </tr>\n",
              "    <tr>\n",
              "      <th>4</th>\n",
              "      <td>0-5 yrs</td>\n",
              "      <td>NaN</td>\n",
              "      <td>Process Associate / Sr Process Associate / Tec...</td>\n",
              "      <td>NaN</td>\n",
              "      <td>voice support, analytical skills, Process asso...</td>\n",
              "      <td>Hyderabad</td>\n",
              "      <td>40</td>\n",
              "    </tr>\n",
              "  </tbody>\n",
              "</table>\n",
              "</div>"
            ],
            "text/plain": [
              "  experience  ... company_name_encoded\n",
              "0   7-12 yrs  ...                 2066\n",
              "1    0-5 yrs  ...                 2629\n",
              "2    3-6 yrs  ...                 2448\n",
              "3    0-3 yrs  ...                 2711\n",
              "4    0-5 yrs  ...                   40\n",
              "\n",
              "[5 rows x 7 columns]"
            ]
          },
          "metadata": {
            "tags": []
          },
          "execution_count": 8
        }
      ]
    },
    {
      "cell_type": "code",
      "metadata": {
        "colab": {
          "base_uri": "https://localhost:8080/"
        },
        "id": "lkKGG15r9PfY",
        "outputId": "1485f67f-34cc-44fc-f93e-8d56ee4376df"
      },
      "source": [
        "train.info()"
      ],
      "execution_count": 9,
      "outputs": [
        {
          "output_type": "stream",
          "text": [
            "<class 'pandas.core.frame.DataFrame'>\n",
            "RangeIndex: 19802 entries, 0 to 19801\n",
            "Data columns (total 9 columns):\n",
            " #   Column                Non-Null Count  Dtype \n",
            "---  ------                --------------  ----- \n",
            " 0   Unnamed: 0            19802 non-null  int64 \n",
            " 1   experience            19802 non-null  object\n",
            " 2   job_description       15384 non-null  object\n",
            " 3   job_desig             19802 non-null  object\n",
            " 4   job_type              4797 non-null   object\n",
            " 5   key_skills            19801 non-null  object\n",
            " 6   location              19802 non-null  object\n",
            " 7   salary                19802 non-null  object\n",
            " 8   company_name_encoded  19802 non-null  int64 \n",
            "dtypes: int64(2), object(7)\n",
            "memory usage: 1.4+ MB\n"
          ],
          "name": "stdout"
        }
      ]
    },
    {
      "cell_type": "markdown",
      "metadata": {
        "id": "GLtm2n9P9xnn"
      },
      "source": [
        "**Cleaning Dataset**"
      ]
    },
    {
      "cell_type": "code",
      "metadata": {
        "id": "L_hta_eM9wy_"
      },
      "source": [
        "train = train.dropna(subset=['key_skills'])\n",
        "df_train = train[['key_skills', 'job_desig', 'job_description', 'location', 'job_type', 'experience','salary']]\n",
        "df_test = test[['key_skills', 'job_desig', 'job_description', 'location', 'job_type', 'experience', ]]"
      ],
      "execution_count": 10,
      "outputs": []
    },
    {
      "cell_type": "code",
      "metadata": {
        "id": "m-YHClAwBcN7"
      },
      "source": [
        "def clean_skills(skl):\n",
        "    skills = str(skl).lower()\n",
        "    skills = re.sub(r'\\...','', skills)\n",
        "    skills = re.sub(r',','', skills)\n",
        "    skills = re.sub(r'\\s+', ' ', skills)\n",
        "    return skills\n",
        "\n",
        "df_train['skills_cleaned'] = df_train['key_skills'].apply(clean_skills)\n",
        "df_test['skills_cleaned'] = df_test['key_skills'].apply(clean_skills)"
      ],
      "execution_count": 11,
      "outputs": []
    },
    {
      "cell_type": "code",
      "metadata": {
        "id": "5LAQQwpNBgpb"
      },
      "source": [
        "def clean_job_desig(desig):\n",
        "    job_desig = desig.lower()\n",
        "    job_desig = re.sub(r'[^a-z]', ' ', job_desig)\n",
        "    job_desig = re.sub(r'\\s+', ' ', job_desig)\n",
        "    return job_desig\n",
        "\n",
        "df_train['desig_cleaned'] = df_train['job_desig'].apply(clean_job_desig)\n",
        "df_test['desig_cleaned'] = df_test['job_desig'].apply(clean_job_desig)"
      ],
      "execution_count": 12,
      "outputs": []
    },
    {
      "cell_type": "code",
      "metadata": {
        "id": "mV7DGoqNBmA9"
      },
      "source": [
        "train['job_description'].fillna('missing', inplace=True)\n",
        "test['job_description'].fillna('missing', inplace=True)\n",
        "\n",
        "def clean_job_desc(job):\n",
        "    job_desc = str(job).lower()\n",
        "    job_desc = re.sub(r'[^a-z]', ' ', job_desc)\n",
        "    job_desc = re.sub(r'\\s+', ' ', job_desc)\n",
        "    return job_desc\n",
        "\n",
        "df_train['job_desc_cleaned'] = df_train['job_description'].apply(clean_job_desc)\n",
        "df_test['job_desc_cleaned'] = df_test['job_description'].apply(clean_job_desc)"
      ],
      "execution_count": 13,
      "outputs": []
    },
    {
      "cell_type": "code",
      "metadata": {
        "id": "M272OJLHBqnZ"
      },
      "source": [
        "def clean_location(loc):\n",
        "    location = loc.lower()\n",
        "    location = re.sub(r'[^a-z]', ' ', location)\n",
        "    location = re.sub(r'\\s+', ' ', location)\n",
        "    return location\n",
        "\n",
        "df_train['loc_cleaned'] = df_train['location'].apply(clean_location)\n",
        "df_test['loc_cleaned'] = df_test['location'].apply(clean_location)"
      ],
      "execution_count": 14,
      "outputs": []
    },
    {
      "cell_type": "code",
      "metadata": {
        "id": "aOx-CucbBtRJ"
      },
      "source": [
        "train['job_type'].fillna('missingjobtype', inplace=True)\n",
        "train['job_type'].replace('Analytics', 'analytics', inplace=True)\n",
        "train['job_type'].replace('Analytic', 'analytics', inplace=True)\n",
        "train['job_type'].replace('ANALYTICS', 'analytics', inplace=True)\n",
        "train['job_type'].replace('analytic', 'analytics', inplace=True)\n",
        "\n",
        "test['job_type'].fillna('missingjobtype', inplace=True)\n",
        "test['job_type'].replace('Analytics', 'analytics', inplace=True)\n",
        "test['job_type'].replace('Analytic', 'analytics', inplace=True)\n",
        "test['job_type'].replace('ANALYTICS', 'analytics', inplace=True)\n",
        "test['job_type'].replace('analytic', 'analytics', inplace=True)\n",
        "\n",
        "df_train['job_type_cleaned'] = train['job_type'] \n",
        "df_test['job_type_cleaned'] = test['job_type']"
      ],
      "execution_count": 15,
      "outputs": []
    },
    {
      "cell_type": "code",
      "metadata": {
        "id": "X1Uw5uEBBu_Q"
      },
      "source": [
        "def min_exp(exp):\n",
        "    val = re.sub(r'\\-',' ', exp)\n",
        "    val = val.split(' ')\n",
        "    val = int(val[0])\n",
        "    return val\n",
        "\n",
        "def max_exp(exp):\n",
        "    val = re.sub(r'\\-',' ', exp)\n",
        "    val = val.split(' ')\n",
        "    val = int(val[1])\n",
        "    return val\n",
        "\n",
        "df_train['min_exp'] = df_train['experience'].apply(min_exp)\n",
        "df_train['max_exp'] = df_train['experience'].apply(max_exp)\n",
        "\n",
        "df_test['min_exp'] = df_test['experience'].apply(min_exp)\n",
        "df_test['max_exp'] = df_test['experience'].apply(max_exp)"
      ],
      "execution_count": 16,
      "outputs": []
    },
    {
      "cell_type": "code",
      "metadata": {
        "id": "0610tuEXCXyt"
      },
      "source": [
        "df_train['merged'] = (df_train['desig_cleaned'] + ' ' + df_train['job_desc_cleaned'] + ' ' + df_train['skills_cleaned']\n",
        "                      + ' ' + df_train['job_type_cleaned'])\n",
        "\n",
        "df_test['merged'] = (df_test['desig_cleaned'] + ' ' + df_test['job_desc_cleaned'] + ' ' + df_test['skills_cleaned']\n",
        "                     + ' ' + df_test['job_type_cleaned'])"
      ],
      "execution_count": 17,
      "outputs": []
    },
    {
      "cell_type": "code",
      "metadata": {
        "colab": {
          "base_uri": "https://localhost:8080/",
          "height": 591
        },
        "id": "s2f28moVCMMy",
        "outputId": "fb5e176d-3734-45b2-ea74-dd47f136c6ef"
      },
      "source": [
        "df_train.head()"
      ],
      "execution_count": 18,
      "outputs": [
        {
          "output_type": "execute_result",
          "data": {
            "text/html": [
              "<div>\n",
              "<style scoped>\n",
              "    .dataframe tbody tr th:only-of-type {\n",
              "        vertical-align: middle;\n",
              "    }\n",
              "\n",
              "    .dataframe tbody tr th {\n",
              "        vertical-align: top;\n",
              "    }\n",
              "\n",
              "    .dataframe thead th {\n",
              "        text-align: right;\n",
              "    }\n",
              "</style>\n",
              "<table border=\"1\" class=\"dataframe\">\n",
              "  <thead>\n",
              "    <tr style=\"text-align: right;\">\n",
              "      <th></th>\n",
              "      <th>key_skills</th>\n",
              "      <th>job_desig</th>\n",
              "      <th>job_description</th>\n",
              "      <th>location</th>\n",
              "      <th>job_type</th>\n",
              "      <th>experience</th>\n",
              "      <th>salary</th>\n",
              "      <th>skills_cleaned</th>\n",
              "      <th>desig_cleaned</th>\n",
              "      <th>job_desc_cleaned</th>\n",
              "      <th>loc_cleaned</th>\n",
              "      <th>job_type_cleaned</th>\n",
              "      <th>min_exp</th>\n",
              "      <th>max_exp</th>\n",
              "      <th>merged</th>\n",
              "    </tr>\n",
              "  </thead>\n",
              "  <tbody>\n",
              "    <tr>\n",
              "      <th>0</th>\n",
              "      <td>team skills, communication skills, analytical ...</td>\n",
              "      <td>Senior Exploit and Vulnerability Researcher</td>\n",
              "      <td>Exp: Minimum 5 years;Good understanding of IOC...</td>\n",
              "      <td>Delhi NCR(Vikas Puri)</td>\n",
              "      <td>NaN</td>\n",
              "      <td>5-7 yrs</td>\n",
              "      <td>6to10</td>\n",
              "      <td>team skills communication skills analytical sk...</td>\n",
              "      <td>senior exploit and vulnerability researcher</td>\n",
              "      <td>exp minimum years good understanding of ioc ru...</td>\n",
              "      <td>delhi ncr vikas puri</td>\n",
              "      <td>missingjobtype</td>\n",
              "      <td>5</td>\n",
              "      <td>7</td>\n",
              "      <td>senior exploit and vulnerability researcher ex...</td>\n",
              "    </tr>\n",
              "    <tr>\n",
              "      <th>1</th>\n",
              "      <td>ppc, logistics, inventory management, supply c...</td>\n",
              "      <td>Head SCM</td>\n",
              "      <td>He should have handled a team of atleast 5-6 d...</td>\n",
              "      <td>Sonepat</td>\n",
              "      <td>NaN</td>\n",
              "      <td>10-17 yrs</td>\n",
              "      <td>10to15</td>\n",
              "      <td>ppc logistics inventory management supply chai...</td>\n",
              "      <td>head scm</td>\n",
              "      <td>he should have handled a team of atleast direc...</td>\n",
              "      <td>sonepat</td>\n",
              "      <td>missingjobtype</td>\n",
              "      <td>10</td>\n",
              "      <td>17</td>\n",
              "      <td>head scm he should have handled a team of atle...</td>\n",
              "    </tr>\n",
              "    <tr>\n",
              "      <th>2</th>\n",
              "      <td>HR Analytics, Employee Engagement, Training, S...</td>\n",
              "      <td>Deputy Manager - Talent Management &amp; Leadershi...</td>\n",
              "      <td>Must be an effective communicator (written &amp; s...</td>\n",
              "      <td>Delhi NCR</td>\n",
              "      <td>Analytics</td>\n",
              "      <td>5-9 yrs</td>\n",
              "      <td>15to25</td>\n",
              "      <td>hr analytics employee engagement training succ...</td>\n",
              "      <td>deputy manager talent management leadership de...</td>\n",
              "      <td>must be an effective communicator written spok...</td>\n",
              "      <td>delhi ncr</td>\n",
              "      <td>analytics</td>\n",
              "      <td>5</td>\n",
              "      <td>9</td>\n",
              "      <td>deputy manager talent management leadership de...</td>\n",
              "    </tr>\n",
              "    <tr>\n",
              "      <th>3</th>\n",
              "      <td>SQL, Javascript, Automation, Python, Ruby, Ana...</td>\n",
              "      <td>Associate Manager Data Engineering</td>\n",
              "      <td>7  -  10 years of overall experience in data e...</td>\n",
              "      <td>Bengaluru</td>\n",
              "      <td>Analytics</td>\n",
              "      <td>7-10 yrs</td>\n",
              "      <td>10to15</td>\n",
              "      <td>sql javascript automation python ruby analytic...</td>\n",
              "      <td>associate manager data engineering</td>\n",
              "      <td>years of overall experience in data engineeri...</td>\n",
              "      <td>bengaluru</td>\n",
              "      <td>analytics</td>\n",
              "      <td>7</td>\n",
              "      <td>10</td>\n",
              "      <td>associate manager data engineering  years of o...</td>\n",
              "    </tr>\n",
              "    <tr>\n",
              "      <th>4</th>\n",
              "      <td>accounting, finance, cash flow, financial plan...</td>\n",
              "      <td>TS- GSA- Senior Analyst</td>\n",
              "      <td>Chartered Accountancy degree or MBA in Finance...</td>\n",
              "      <td>Gurgaon</td>\n",
              "      <td>NaN</td>\n",
              "      <td>1-3 yrs</td>\n",
              "      <td>3to6</td>\n",
              "      <td>accounting finance cash flow financial plannin...</td>\n",
              "      <td>ts gsa senior analyst</td>\n",
              "      <td>chartered accountancy degree or mba in finance...</td>\n",
              "      <td>gurgaon</td>\n",
              "      <td>missingjobtype</td>\n",
              "      <td>1</td>\n",
              "      <td>3</td>\n",
              "      <td>ts gsa senior analyst chartered accountancy de...</td>\n",
              "    </tr>\n",
              "  </tbody>\n",
              "</table>\n",
              "</div>"
            ],
            "text/plain": [
              "                                          key_skills  ...                                             merged\n",
              "0  team skills, communication skills, analytical ...  ...  senior exploit and vulnerability researcher ex...\n",
              "1  ppc, logistics, inventory management, supply c...  ...  head scm he should have handled a team of atle...\n",
              "2  HR Analytics, Employee Engagement, Training, S...  ...  deputy manager talent management leadership de...\n",
              "3  SQL, Javascript, Automation, Python, Ruby, Ana...  ...  associate manager data engineering  years of o...\n",
              "4  accounting, finance, cash flow, financial plan...  ...  ts gsa senior analyst chartered accountancy de...\n",
              "\n",
              "[5 rows x 15 columns]"
            ]
          },
          "metadata": {
            "tags": []
          },
          "execution_count": 18
        }
      ]
    },
    {
      "cell_type": "code",
      "metadata": {
        "id": "12-dAl_YGIHy"
      },
      "source": [
        "from sklearn.preprocessing import LabelEncoder\n",
        "le = LabelEncoder()\n",
        "df_train['salary'] = le.fit_transform(df_train['salary'])"
      ],
      "execution_count": 19,
      "outputs": []
    },
    {
      "cell_type": "code",
      "metadata": {
        "colab": {
          "base_uri": "https://localhost:8080/",
          "height": 591
        },
        "id": "CIQb2mgJHN7S",
        "outputId": "48803740-2384-4b02-8d0b-20e27a068da0"
      },
      "source": [
        "df_train.head()"
      ],
      "execution_count": 20,
      "outputs": [
        {
          "output_type": "execute_result",
          "data": {
            "text/html": [
              "<div>\n",
              "<style scoped>\n",
              "    .dataframe tbody tr th:only-of-type {\n",
              "        vertical-align: middle;\n",
              "    }\n",
              "\n",
              "    .dataframe tbody tr th {\n",
              "        vertical-align: top;\n",
              "    }\n",
              "\n",
              "    .dataframe thead th {\n",
              "        text-align: right;\n",
              "    }\n",
              "</style>\n",
              "<table border=\"1\" class=\"dataframe\">\n",
              "  <thead>\n",
              "    <tr style=\"text-align: right;\">\n",
              "      <th></th>\n",
              "      <th>key_skills</th>\n",
              "      <th>job_desig</th>\n",
              "      <th>job_description</th>\n",
              "      <th>location</th>\n",
              "      <th>job_type</th>\n",
              "      <th>experience</th>\n",
              "      <th>salary</th>\n",
              "      <th>skills_cleaned</th>\n",
              "      <th>desig_cleaned</th>\n",
              "      <th>job_desc_cleaned</th>\n",
              "      <th>loc_cleaned</th>\n",
              "      <th>job_type_cleaned</th>\n",
              "      <th>min_exp</th>\n",
              "      <th>max_exp</th>\n",
              "      <th>merged</th>\n",
              "    </tr>\n",
              "  </thead>\n",
              "  <tbody>\n",
              "    <tr>\n",
              "      <th>0</th>\n",
              "      <td>team skills, communication skills, analytical ...</td>\n",
              "      <td>Senior Exploit and Vulnerability Researcher</td>\n",
              "      <td>Exp: Minimum 5 years;Good understanding of IOC...</td>\n",
              "      <td>Delhi NCR(Vikas Puri)</td>\n",
              "      <td>NaN</td>\n",
              "      <td>5-7 yrs</td>\n",
              "      <td>5</td>\n",
              "      <td>team skills communication skills analytical sk...</td>\n",
              "      <td>senior exploit and vulnerability researcher</td>\n",
              "      <td>exp minimum years good understanding of ioc ru...</td>\n",
              "      <td>delhi ncr vikas puri</td>\n",
              "      <td>missingjobtype</td>\n",
              "      <td>5</td>\n",
              "      <td>7</td>\n",
              "      <td>senior exploit and vulnerability researcher ex...</td>\n",
              "    </tr>\n",
              "    <tr>\n",
              "      <th>1</th>\n",
              "      <td>ppc, logistics, inventory management, supply c...</td>\n",
              "      <td>Head SCM</td>\n",
              "      <td>He should have handled a team of atleast 5-6 d...</td>\n",
              "      <td>Sonepat</td>\n",
              "      <td>NaN</td>\n",
              "      <td>10-17 yrs</td>\n",
              "      <td>1</td>\n",
              "      <td>ppc logistics inventory management supply chai...</td>\n",
              "      <td>head scm</td>\n",
              "      <td>he should have handled a team of atleast direc...</td>\n",
              "      <td>sonepat</td>\n",
              "      <td>missingjobtype</td>\n",
              "      <td>10</td>\n",
              "      <td>17</td>\n",
              "      <td>head scm he should have handled a team of atle...</td>\n",
              "    </tr>\n",
              "    <tr>\n",
              "      <th>2</th>\n",
              "      <td>HR Analytics, Employee Engagement, Training, S...</td>\n",
              "      <td>Deputy Manager - Talent Management &amp; Leadershi...</td>\n",
              "      <td>Must be an effective communicator (written &amp; s...</td>\n",
              "      <td>Delhi NCR</td>\n",
              "      <td>Analytics</td>\n",
              "      <td>5-9 yrs</td>\n",
              "      <td>2</td>\n",
              "      <td>hr analytics employee engagement training succ...</td>\n",
              "      <td>deputy manager talent management leadership de...</td>\n",
              "      <td>must be an effective communicator written spok...</td>\n",
              "      <td>delhi ncr</td>\n",
              "      <td>analytics</td>\n",
              "      <td>5</td>\n",
              "      <td>9</td>\n",
              "      <td>deputy manager talent management leadership de...</td>\n",
              "    </tr>\n",
              "    <tr>\n",
              "      <th>3</th>\n",
              "      <td>SQL, Javascript, Automation, Python, Ruby, Ana...</td>\n",
              "      <td>Associate Manager Data Engineering</td>\n",
              "      <td>7  -  10 years of overall experience in data e...</td>\n",
              "      <td>Bengaluru</td>\n",
              "      <td>Analytics</td>\n",
              "      <td>7-10 yrs</td>\n",
              "      <td>1</td>\n",
              "      <td>sql javascript automation python ruby analytic...</td>\n",
              "      <td>associate manager data engineering</td>\n",
              "      <td>years of overall experience in data engineeri...</td>\n",
              "      <td>bengaluru</td>\n",
              "      <td>analytics</td>\n",
              "      <td>7</td>\n",
              "      <td>10</td>\n",
              "      <td>associate manager data engineering  years of o...</td>\n",
              "    </tr>\n",
              "    <tr>\n",
              "      <th>4</th>\n",
              "      <td>accounting, finance, cash flow, financial plan...</td>\n",
              "      <td>TS- GSA- Senior Analyst</td>\n",
              "      <td>Chartered Accountancy degree or MBA in Finance...</td>\n",
              "      <td>Gurgaon</td>\n",
              "      <td>NaN</td>\n",
              "      <td>1-3 yrs</td>\n",
              "      <td>4</td>\n",
              "      <td>accounting finance cash flow financial plannin...</td>\n",
              "      <td>ts gsa senior analyst</td>\n",
              "      <td>chartered accountancy degree or mba in finance...</td>\n",
              "      <td>gurgaon</td>\n",
              "      <td>missingjobtype</td>\n",
              "      <td>1</td>\n",
              "      <td>3</td>\n",
              "      <td>ts gsa senior analyst chartered accountancy de...</td>\n",
              "    </tr>\n",
              "  </tbody>\n",
              "</table>\n",
              "</div>"
            ],
            "text/plain": [
              "                                          key_skills  ...                                             merged\n",
              "0  team skills, communication skills, analytical ...  ...  senior exploit and vulnerability researcher ex...\n",
              "1  ppc, logistics, inventory management, supply c...  ...  head scm he should have handled a team of atle...\n",
              "2  HR Analytics, Employee Engagement, Training, S...  ...  deputy manager talent management leadership de...\n",
              "3  SQL, Javascript, Automation, Python, Ruby, Ana...  ...  associate manager data engineering  years of o...\n",
              "4  accounting, finance, cash flow, financial plan...  ...  ts gsa senior analyst chartered accountancy de...\n",
              "\n",
              "[5 rows x 15 columns]"
            ]
          },
          "metadata": {
            "tags": []
          },
          "execution_count": 20
        }
      ]
    },
    {
      "cell_type": "code",
      "metadata": {
        "colab": {
          "base_uri": "https://localhost:8080/",
          "height": 608
        },
        "id": "g67fbNGxIPyR",
        "outputId": "0d7cfb04-bc36-4f98-819e-d51d2feebfd8"
      },
      "source": [
        "df_test.head()"
      ],
      "execution_count": 21,
      "outputs": [
        {
          "output_type": "execute_result",
          "data": {
            "text/html": [
              "<div>\n",
              "<style scoped>\n",
              "    .dataframe tbody tr th:only-of-type {\n",
              "        vertical-align: middle;\n",
              "    }\n",
              "\n",
              "    .dataframe tbody tr th {\n",
              "        vertical-align: top;\n",
              "    }\n",
              "\n",
              "    .dataframe thead th {\n",
              "        text-align: right;\n",
              "    }\n",
              "</style>\n",
              "<table border=\"1\" class=\"dataframe\">\n",
              "  <thead>\n",
              "    <tr style=\"text-align: right;\">\n",
              "      <th></th>\n",
              "      <th>key_skills</th>\n",
              "      <th>job_desig</th>\n",
              "      <th>job_description</th>\n",
              "      <th>location</th>\n",
              "      <th>job_type</th>\n",
              "      <th>experience</th>\n",
              "      <th>skills_cleaned</th>\n",
              "      <th>desig_cleaned</th>\n",
              "      <th>job_desc_cleaned</th>\n",
              "      <th>loc_cleaned</th>\n",
              "      <th>job_type_cleaned</th>\n",
              "      <th>min_exp</th>\n",
              "      <th>max_exp</th>\n",
              "      <th>merged</th>\n",
              "    </tr>\n",
              "  </thead>\n",
              "  <tbody>\n",
              "    <tr>\n",
              "      <th>0</th>\n",
              "      <td>Java, J2Ee, Tomcat, JBoss, Weblogic, Oracle, E...</td>\n",
              "      <td>IT Technology Senior Consultant/java/ J2ee/ Se...</td>\n",
              "      <td>Professional experience in Java/J2EE based ser...</td>\n",
              "      <td>Bengaluru</td>\n",
              "      <td>NaN</td>\n",
              "      <td>7-12 yrs</td>\n",
              "      <td>java j2ee tomcat jboss weblogic oracle elastic...</td>\n",
              "      <td>it technology senior consultant java j ee seve...</td>\n",
              "      <td>professional experience in java j ee based ser...</td>\n",
              "      <td>bengaluru</td>\n",
              "      <td>missingjobtype</td>\n",
              "      <td>7</td>\n",
              "      <td>12</td>\n",
              "      <td>it technology senior consultant java j ee seve...</td>\n",
              "    </tr>\n",
              "    <tr>\n",
              "      <th>1</th>\n",
              "      <td>Medical Billing, Insurance Processing</td>\n",
              "      <td>Medical Billing Process | International KPO | ...</td>\n",
              "      <td>We are looking for 20+ Fresher/Experienced Can...</td>\n",
              "      <td>Ahmedabad(Sola)</td>\n",
              "      <td>NaN</td>\n",
              "      <td>0-5 yrs</td>\n",
              "      <td>medical billing insurance processing</td>\n",
              "      <td>medical billing process international kpo insu...</td>\n",
              "      <td>we are looking for fresher experienced candida...</td>\n",
              "      <td>ahmedabad sola</td>\n",
              "      <td>missingjobtype</td>\n",
              "      <td>0</td>\n",
              "      <td>5</td>\n",
              "      <td>medical billing process international kpo insu...</td>\n",
              "    </tr>\n",
              "    <tr>\n",
              "      <th>2</th>\n",
              "      <td>Oracle Sales, Functional Consultancy, Troubles...</td>\n",
              "      <td>Oracle Sales Cloud Functional Consultant</td>\n",
              "      <td>Should understand overall integration framewor...</td>\n",
              "      <td>Bengaluru</td>\n",
              "      <td>NaN</td>\n",
              "      <td>3-6 yrs</td>\n",
              "      <td>oracle sales functional consultancy troublesho...</td>\n",
              "      <td>oracle sales cloud functional consultant</td>\n",
              "      <td>should understand overall integration framewor...</td>\n",
              "      <td>bengaluru</td>\n",
              "      <td>missingjobtype</td>\n",
              "      <td>3</td>\n",
              "      <td>6</td>\n",
              "      <td>oracle sales cloud functional consultant shoul...</td>\n",
              "    </tr>\n",
              "    <tr>\n",
              "      <th>3</th>\n",
              "      <td>offline, online, internet, part time, home bas...</td>\n",
              "      <td>Looking For Freshers WHO WANT To Work WITH US</td>\n",
              "      <td>NaN</td>\n",
              "      <td>Delhi NCR, Chennai, Hyderabad, Gurgaon, Luckno...</td>\n",
              "      <td>NaN</td>\n",
              "      <td>0-3 yrs</td>\n",
              "      <td>offline online internet part time home base wo...</td>\n",
              "      <td>looking for freshers who want to work with us</td>\n",
              "      <td>nan</td>\n",
              "      <td>delhi ncr chennai hyderabad gurgaon lucknow mu...</td>\n",
              "      <td>missingjobtype</td>\n",
              "      <td>0</td>\n",
              "      <td>3</td>\n",
              "      <td>looking for freshers who want to work with us ...</td>\n",
              "    </tr>\n",
              "    <tr>\n",
              "      <th>4</th>\n",
              "      <td>voice support, analytical skills, Process asso...</td>\n",
              "      <td>Process Associate / Sr Process Associate / Tec...</td>\n",
              "      <td>NaN</td>\n",
              "      <td>Hyderabad</td>\n",
              "      <td>NaN</td>\n",
              "      <td>0-5 yrs</td>\n",
              "      <td>voice support analytical skills process associ...</td>\n",
              "      <td>process associate sr process associate tech as...</td>\n",
              "      <td>nan</td>\n",
              "      <td>hyderabad</td>\n",
              "      <td>missingjobtype</td>\n",
              "      <td>0</td>\n",
              "      <td>5</td>\n",
              "      <td>process associate sr process associate tech as...</td>\n",
              "    </tr>\n",
              "  </tbody>\n",
              "</table>\n",
              "</div>"
            ],
            "text/plain": [
              "                                          key_skills  ...                                             merged\n",
              "0  Java, J2Ee, Tomcat, JBoss, Weblogic, Oracle, E...  ...  it technology senior consultant java j ee seve...\n",
              "1              Medical Billing, Insurance Processing  ...  medical billing process international kpo insu...\n",
              "2  Oracle Sales, Functional Consultancy, Troubles...  ...  oracle sales cloud functional consultant shoul...\n",
              "3  offline, online, internet, part time, home bas...  ...  looking for freshers who want to work with us ...\n",
              "4  voice support, analytical skills, Process asso...  ...  process associate sr process associate tech as...\n",
              "\n",
              "[5 rows x 14 columns]"
            ]
          },
          "metadata": {
            "tags": []
          },
          "execution_count": 21
        }
      ]
    },
    {
      "cell_type": "code",
      "metadata": {
        "id": "Mul8IZ73XCJb"
      },
      "source": [
        "X=df_train[['min_exp','max_exp']]\n",
        "Y=df_train['salary']"
      ],
      "execution_count": 22,
      "outputs": []
    },
    {
      "cell_type": "code",
      "metadata": {
        "colab": {
          "base_uri": "https://localhost:8080/"
        },
        "id": "Xg4mqSt5XybR",
        "outputId": "666b7ebf-cfe2-4116-f077-08ac483d32e5"
      },
      "source": [
        "X.shape"
      ],
      "execution_count": 23,
      "outputs": [
        {
          "output_type": "execute_result",
          "data": {
            "text/plain": [
              "(19801, 2)"
            ]
          },
          "metadata": {
            "tags": []
          },
          "execution_count": 23
        }
      ]
    },
    {
      "cell_type": "code",
      "metadata": {
        "colab": {
          "base_uri": "https://localhost:8080/"
        },
        "id": "wV1le_r3XCfz",
        "outputId": "42dd8c64-15d8-4006-f351-54fb09185f02"
      },
      "source": [
        "Y.shape"
      ],
      "execution_count": 24,
      "outputs": [
        {
          "output_type": "execute_result",
          "data": {
            "text/plain": [
              "(19801,)"
            ]
          },
          "metadata": {
            "tags": []
          },
          "execution_count": 24
        }
      ]
    },
    {
      "cell_type": "markdown",
      "metadata": {
        "id": "ed3p6VlvZ9Hg"
      },
      "source": [
        "**Train Test Split**"
      ]
    },
    {
      "cell_type": "code",
      "metadata": {
        "id": "A9Y7nqRzXDKa"
      },
      "source": [
        "from sklearn.model_selection import train_test_split\n",
        "x_train, x_cv, y_train, y_cv = train_test_split(X,Y, test_size=0.20,random_state=42)"
      ],
      "execution_count": 25,
      "outputs": []
    },
    {
      "cell_type": "code",
      "metadata": {
        "colab": {
          "base_uri": "https://localhost:8080/"
        },
        "id": "ahXDVXEvXDlw",
        "outputId": "1b6ac784-0c63-4643-c96b-7c78f013ab6c"
      },
      "source": [
        "print(x_train.shape)\n",
        "print(x_cv.shape)\n",
        "print(y_train.shape)\n",
        "print(y_cv.shape)"
      ],
      "execution_count": 26,
      "outputs": [
        {
          "output_type": "stream",
          "text": [
            "(15840, 2)\n",
            "(3961, 2)\n",
            "(15840,)\n",
            "(3961,)\n"
          ],
          "name": "stdout"
        }
      ]
    },
    {
      "cell_type": "markdown",
      "metadata": {
        "id": "7dWKVxYZaBcX"
      },
      "source": [
        "**Building the Model**"
      ]
    },
    {
      "cell_type": "code",
      "metadata": {
        "colab": {
          "base_uri": "https://localhost:8080/"
        },
        "id": "z0Nr8NT-XEAt",
        "outputId": "f3130dba-e95d-4201-d7d7-5b43a85295f7"
      },
      "source": [
        "from sklearn.ensemble import RandomForestClassifier\n",
        "clf = RandomForestClassifier(random_state=42)\n",
        "clf.fit(x_train,y_train)"
      ],
      "execution_count": 27,
      "outputs": [
        {
          "output_type": "execute_result",
          "data": {
            "text/plain": [
              "RandomForestClassifier(bootstrap=True, ccp_alpha=0.0, class_weight=None,\n",
              "                       criterion='gini', max_depth=None, max_features='auto',\n",
              "                       max_leaf_nodes=None, max_samples=None,\n",
              "                       min_impurity_decrease=0.0, min_impurity_split=None,\n",
              "                       min_samples_leaf=1, min_samples_split=2,\n",
              "                       min_weight_fraction_leaf=0.0, n_estimators=100,\n",
              "                       n_jobs=None, oob_score=False, random_state=42, verbose=0,\n",
              "                       warm_start=False)"
            ]
          },
          "metadata": {
            "tags": []
          },
          "execution_count": 27
        }
      ]
    },
    {
      "cell_type": "code",
      "metadata": {
        "id": "und1KaivZJl9"
      },
      "source": [
        "Y_pred=clf.predict(x_cv)"
      ],
      "execution_count": 28,
      "outputs": []
    },
    {
      "cell_type": "markdown",
      "metadata": {
        "id": "-TrVug6FaGOE"
      },
      "source": [
        "**Accuracy**"
      ]
    },
    {
      "cell_type": "code",
      "metadata": {
        "colab": {
          "base_uri": "https://localhost:8080/"
        },
        "id": "d_xgxFB-ZhDl",
        "outputId": "cf1949ce-76d3-44f8-f1b5-afb9d31a8259"
      },
      "source": [
        "from sklearn.metrics import accuracy_score\n",
        "acc=accuracy_score(Y_pred,y_cv)\n",
        "acc"
      ],
      "execution_count": 29,
      "outputs": [
        {
          "output_type": "execute_result",
          "data": {
            "text/plain": [
              "0.4072203988891694"
            ]
          },
          "metadata": {
            "tags": []
          },
          "execution_count": 29
        }
      ]
    },
    {
      "cell_type": "markdown",
      "metadata": {
        "id": "gxpn4U0AaXfd"
      },
      "source": [
        "**Final Prediction**"
      ]
    },
    {
      "cell_type": "code",
      "metadata": {
        "id": "U4CNXFQZaqJE"
      },
      "source": [
        "X_test_=df_test[['min_exp','max_exp']]"
      ],
      "execution_count": 30,
      "outputs": []
    },
    {
      "cell_type": "code",
      "metadata": {
        "id": "dKhjo0BJZ3Yd"
      },
      "source": [
        "final_pred=clf.predict(X_test_)"
      ],
      "execution_count": 31,
      "outputs": []
    },
    {
      "cell_type": "code",
      "metadata": {
        "id": "jRJFf0-2a35N"
      },
      "source": [
        "y_pred_class = le.inverse_transform(final_pred)"
      ],
      "execution_count": 32,
      "outputs": []
    },
    {
      "cell_type": "code",
      "metadata": {
        "colab": {
          "base_uri": "https://localhost:8080/"
        },
        "id": "JiescLLNbIow",
        "outputId": "aad2b322-2770-4e94-c94a-82a78d90e703"
      },
      "source": [
        "y_pred_class"
      ],
      "execution_count": 33,
      "outputs": [
        {
          "output_type": "execute_result",
          "data": {
            "text/plain": [
              "array(['15to25', '0to3', '6to10', ..., '15to25', '15to25', '15to25'],\n",
              "      dtype=object)"
            ]
          },
          "metadata": {
            "tags": []
          },
          "execution_count": 33
        }
      ]
    },
    {
      "cell_type": "code",
      "metadata": {
        "id": "VXkMInfrbPjk"
      },
      "source": [
        "df_sub = pd.DataFrame(data=y_pred_class, columns=['salary'])"
      ],
      "execution_count": 34,
      "outputs": []
    },
    {
      "cell_type": "code",
      "metadata": {
        "id": "8lzZUkVBeKTD"
      },
      "source": [
        "df_sub.to_csv( \"output.csv\", index=False, encoding='utf-8-sig')"
      ],
      "execution_count": 35,
      "outputs": []
    }
  ]
}