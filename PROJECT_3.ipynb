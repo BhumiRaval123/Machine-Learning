{
  "nbformat": 4,
  "nbformat_minor": 0,
  "metadata": {
    "colab": {
      "name": "PROJECT 3.ipynb",
      "provenance": [],
      "collapsed_sections": [],
      "authorship_tag": "ABX9TyO7LnJjM9zwzNVwV2W3K36a",
      "include_colab_link": true
    },
    "kernelspec": {
      "name": "python3",
      "display_name": "Python 3"
    },
    "language_info": {
      "name": "python"
    }
  },
  "cells": [
    {
      "cell_type": "markdown",
      "metadata": {
        "id": "view-in-github",
        "colab_type": "text"
      },
      "source": [
        "<a href=\"https://colab.research.google.com/github/BhumiRaval123/Machine-Learning/blob/main/PROJECT_3.ipynb\" target=\"_parent\"><img src=\"https://colab.research.google.com/assets/colab-badge.svg\" alt=\"Open In Colab\"/></a>"
      ]
    },
    {
      "cell_type": "code",
      "metadata": {
        "id": "7UO_J3kiZlvo"
      },
      "source": [
        "import numpy as np\n",
        "import matplotlib.pyplot as plt\n",
        "import seaborn as sns\n",
        "import pandas as pd\n",
        "from sklearn.cluster import KMeans"
      ],
      "execution_count": 4,
      "outputs": []
    },
    {
      "cell_type": "code",
      "metadata": {
        "colab": {
          "base_uri": "https://localhost:8080/"
        },
        "id": "zyxNdDfbZzXE",
        "outputId": "f8c39456-7109-4446-b71e-89e720d01c7a"
      },
      "source": [
        "from google.colab import drive\n",
        "drive.mount('/content/drive')"
      ],
      "execution_count": 5,
      "outputs": [
        {
          "output_type": "stream",
          "text": [
            "Drive already mounted at /content/drive; to attempt to forcibly remount, call drive.mount(\"/content/drive\", force_remount=True).\n"
          ],
          "name": "stdout"
        }
      ]
    },
    {
      "cell_type": "code",
      "metadata": {
        "colab": {
          "base_uri": "https://localhost:8080/"
        },
        "id": "hHVXdj5laH0U",
        "outputId": "e49b435d-6b36-47c3-8fe0-20b08cf6ee56"
      },
      "source": [
        "cd /content/drive/\"My Drive/Colab Notebooks\""
      ],
      "execution_count": 6,
      "outputs": [
        {
          "output_type": "stream",
          "text": [
            "/content/drive/My Drive/Colab Notebooks\n"
          ],
          "name": "stdout"
        }
      ]
    },
    {
      "cell_type": "code",
      "metadata": {
        "id": "LcoyHt4aaMCL"
      },
      "source": [
        "data = pd.read_csv(\"Mall_Customers.csv\")"
      ],
      "execution_count": 7,
      "outputs": []
    },
    {
      "cell_type": "code",
      "metadata": {
        "id": "zEbOmzaRfv1D"
      },
      "source": [
        "X = data.iloc[:, [3, 4]].values"
      ],
      "execution_count": 8,
      "outputs": []
    },
    {
      "cell_type": "code",
      "metadata": {
        "colab": {
          "base_uri": "https://localhost:8080/",
          "height": 411
        },
        "id": "8Ts0YMusgaAa",
        "outputId": "896be0ea-bfa2-48cf-f876-6b9a436648e3"
      },
      "source": [
        "data_target = data['Genre']\n",
        "label = ['Male','Female']\n",
        "isMale = data.loc[data_target=='Male']\n",
        "isFemale = data.loc[data_target=='Female']\n",
        "lenMale = len(isMale)\n",
        "lenFemale = len(isFemale)\n",
        "data_plot = [lenMale/(lenMale+lenFemale)*100,lenFemale/(lenMale+lenFemale)*100]\n",
        "data_plot\n",
        "fig = plt.figure(figsize =(10, 7))\n",
        "plt.pie(data_plot, labels = label)\n",
        "plt.show()"
      ],
      "execution_count": 11,
      "outputs": [
        {
          "output_type": "display_data",
          "data": {
            "image/png": "[encoded data removed]",
            "text/plain": [
              "<Figure size 720x504 with 1 Axes>"
            ]
          },
          "metadata": {
            "tags": []
          }
        }
      ]
    }
  ]
}