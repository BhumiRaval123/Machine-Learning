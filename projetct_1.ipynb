{
  "nbformat": 4,
  "nbformat_minor": 0,
  "metadata": {
    "colab": {
      "name": "projetct-1.ipynb",
      "provenance": [],
      "collapsed_sections": [],
      "authorship_tag": "ABX9TyMMfWJt9fHu2CrPCJZNx1w4",
      "include_colab_link": true
    },
    "kernelspec": {
      "display_name": "Python 3",
      "name": "python3"
    },
    "language_info": {
      "name": "python"
    }
  },
  "cells": [
    {
      "cell_type": "markdown",
      "metadata": {
        "id": "view-in-github",
        "colab_type": "text"
      },
      "source": [
        "<a href=\"https://colab.research.google.com/github/BhumiRaval123/Machine-Learning/blob/main/projetct_1.ipynb\" target=\"_parent\"><img src=\"https://colab.research.google.com/assets/colab-badge.svg\" alt=\"Open In Colab\"/></a>"
      ]
    },
    {
      "cell_type": "markdown",
      "metadata": {
        "id": "eKEHXuZQNCRD"
      },
      "source": [
        "**# Task-1**"
      ]
    },
    {
      "cell_type": "code",
      "metadata": {
        "id": "afVvoNqynFBw"
      },
      "source": [
        "import numpy as np  #helps in mathematical operations\n",
        "import matplotlib.pyplot as plt #helps in plotting of graph\n",
        "import pandas as pd "
      ],
      "execution_count": null,
      "outputs": []
    },
    {
      "cell_type": "code",
      "metadata": {
        "id": "TQy4Aicp2tQ3"
      },
      "source": [
        "from google.colab import drive"
      ],
      "execution_count": null,
      "outputs": []
    },
    {
      "cell_type": "code",
      "metadata": {
        "id": "fUNHoyXS48Fc"
      },
      "source": [
        "drive.mount('/content/drive')"
      ],
      "execution_count": null,
      "outputs": []
    },
    {
      "cell_type": "code",
      "metadata": {
        "colab": {
          "base_uri": "https://localhost:8080/"
        },
        "id": "a7TtqxJC-Ood",
        "outputId": "4afbfc21-a403-4984-a2a8-e7dbec8a18a2"
      },
      "source": [
        "cd /content/drive/\"My Drive/Colab Notebooks\""
      ],
      "execution_count": null,
      "outputs": [
        {
          "output_type": "stream",
          "text": [
            "/content/drive/My Drive/Colab Notebooks\n"
          ],
          "name": "stdout"
        }
      ]
    },
    {
      "cell_type": "code",
      "metadata": {
        "id": "X_PuRp-X5TxQ"
      },
      "source": [
        "confirmed = pd.read_csv(\"time_series_covid19_confirmed_global.csv\")\n",
        "recovered = pd.read_csv(\"time_series_covid19_recovered_global.csv\")\n",
        "deaths = pd.read_csv(\"time_series_covid19_deaths_global.csv\")\n",
        "confirmed= confirmed.drop(['Province/State','Lat','Long'],axis=1)\n",
        "recovered= recovered.drop(['Province/State','Lat','Long'],axis=1)\n",
        "deaths = deaths.drop(['Province/State','Lat','Long'],axis=1)\n"
      ],
      "execution_count": null,
      "outputs": []
    },
    {
      "cell_type": "code",
      "metadata": {
        "id": "NSKfZ3-6SRh8"
      },
      "source": [
        "data_india_confirmed = confirmed.loc[confirmed['Country/Region']=='India']\n",
        "data_india_recovered = recovered.loc[recovered['Country/Region']=='India']\n",
        "data_india_deaths = deaths.loc[deaths['Country/Region']=='India']"
      ],
      "execution_count": null,
      "outputs": []
    },
    {
      "cell_type": "code",
      "metadata": {
        "id": "uwQbAk6XSaFU"
      },
      "source": [
        "india_confirmed = pd.DataFrame(data_india_confirmed)\n",
        "india_recovered= pd.DataFrame(data_india_recovered)\n",
        "india_deaths = pd.DataFrame(data_india_deaths)"
      ],
      "execution_count": null,
      "outputs": []
    },
    {
      "cell_type": "code",
      "metadata": {
        "id": "9bQWHxvySeEU"
      },
      "source": [
        "india_confirmed=india_confirmed.drop(['Country/Region'],axis=1)\n",
        "india_recovered=india_recovered.drop(['Country/Region'],axis=1)\n",
        "india_deaths = india_deaths.drop(['Country/Region'],axis=1)"
      ],
      "execution_count": null,
      "outputs": []
    },
    {
      "cell_type": "code",
      "metadata": {
        "id": "z86eT6AiSiA4"
      },
      "source": [
        "india_confirmed.index = [\"Confirm_Cases\"]\n",
        "india_confirmed= india_confirmed.transpose()\n"
      ],
      "execution_count": null,
      "outputs": []
    },
    {
      "cell_type": "code",
      "metadata": {
        "id": "rUyYSv5vbTmM"
      },
      "source": [
        "india_recovered.index = [\"Recovered_Cases\"]\n",
        "india_recovered = india_recovered.transpose()"
      ],
      "execution_count": null,
      "outputs": []
    },
    {
      "cell_type": "code",
      "metadata": {
        "id": "JzOsaBy7SqfS"
      },
      "source": [
        "india_deaths.index = [\"Deaths\"]\n",
        "india_deaths = india_deaths.transpose()"
      ],
      "execution_count": null,
      "outputs": []
    },
    {
      "cell_type": "code",
      "metadata": {
        "id": "6GIycdueSysn"
      },
      "source": [
        "india_data = india_confirmed"
      ],
      "execution_count": null,
      "outputs": []
    },
    {
      "cell_type": "code",
      "metadata": {
        "id": "dN1pY7Rjeg4o"
      },
      "source": [
        "india_data['Recovered']=india_recovered"
      ],
      "execution_count": null,
      "outputs": []
    },
    {
      "cell_type": "code",
      "metadata": {
        "id": "hOgSvwUpeF9l"
      },
      "source": [
        "india_data['Deaths'] = india_deaths"
      ],
      "execution_count": null,
      "outputs": []
    },
    {
      "cell_type": "code",
      "metadata": {
        "colab": {
          "base_uri": "https://localhost:8080/",
          "height": 424
        },
        "id": "DTlNuUJSeygL",
        "outputId": "0261678e-173d-431d-b233-e80561df4281"
      },
      "source": [
        "india_data"
      ],
      "execution_count": null,
      "outputs": [
        {
          "output_type": "execute_result",
          "data": {
            "text/html": [
              "<div>\n",
              "<style scoped>\n",
              "    .dataframe tbody tr th:only-of-type {\n",
              "        vertical-align: middle;\n",
              "    }\n",
              "\n",
              "    .dataframe tbody tr th {\n",
              "        vertical-align: top;\n",
              "    }\n",
              "\n",
              "    .dataframe thead th {\n",
              "        text-align: right;\n",
              "    }\n",
              "</style>\n",
              "<table border=\"1\" class=\"dataframe\">\n",
              "  <thead>\n",
              "    <tr style=\"text-align: right;\">\n",
              "      <th></th>\n",
              "      <th>Confirm_Cases</th>\n",
              "      <th>Recovered</th>\n",
              "      <th>Deaths</th>\n",
              "    </tr>\n",
              "  </thead>\n",
              "  <tbody>\n",
              "    <tr>\n",
              "      <th>1/22/20</th>\n",
              "      <td>0</td>\n",
              "      <td>0.0</td>\n",
              "      <td>0.0</td>\n",
              "    </tr>\n",
              "    <tr>\n",
              "      <th>1/23/20</th>\n",
              "      <td>0</td>\n",
              "      <td>0.0</td>\n",
              "      <td>0.0</td>\n",
              "    </tr>\n",
              "    <tr>\n",
              "      <th>1/24/20</th>\n",
              "      <td>0</td>\n",
              "      <td>0.0</td>\n",
              "      <td>0.0</td>\n",
              "    </tr>\n",
              "    <tr>\n",
              "      <th>1/25/20</th>\n",
              "      <td>0</td>\n",
              "      <td>0.0</td>\n",
              "      <td>0.0</td>\n",
              "    </tr>\n",
              "    <tr>\n",
              "      <th>1/26/20</th>\n",
              "      <td>0</td>\n",
              "      <td>0.0</td>\n",
              "      <td>0.0</td>\n",
              "    </tr>\n",
              "    <tr>\n",
              "      <th>...</th>\n",
              "      <td>...</td>\n",
              "      <td>...</td>\n",
              "      <td>...</td>\n",
              "    </tr>\n",
              "    <tr>\n",
              "      <th>4/29/21</th>\n",
              "      <td>18762976</td>\n",
              "      <td>15384418.0</td>\n",
              "      <td>208330.0</td>\n",
              "    </tr>\n",
              "    <tr>\n",
              "      <th>4/30/21</th>\n",
              "      <td>19164969</td>\n",
              "      <td>15684406.0</td>\n",
              "      <td>211853.0</td>\n",
              "    </tr>\n",
              "    <tr>\n",
              "      <th>05-01-2021</th>\n",
              "      <td>19557457</td>\n",
              "      <td>NaN</td>\n",
              "      <td>NaN</td>\n",
              "    </tr>\n",
              "    <tr>\n",
              "      <th>05-02-2021</th>\n",
              "      <td>19925517</td>\n",
              "      <td>NaN</td>\n",
              "      <td>NaN</td>\n",
              "    </tr>\n",
              "    <tr>\n",
              "      <th>05-03-2021</th>\n",
              "      <td>19925604</td>\n",
              "      <td>NaN</td>\n",
              "      <td>NaN</td>\n",
              "    </tr>\n",
              "  </tbody>\n",
              "</table>\n",
              "<p>468 rows × 3 columns</p>\n",
              "</div>"
            ],
            "text/plain": [
              "            Confirm_Cases   Recovered    Deaths\n",
              "1/22/20                 0         0.0       0.0\n",
              "1/23/20                 0         0.0       0.0\n",
              "1/24/20                 0         0.0       0.0\n",
              "1/25/20                 0         0.0       0.0\n",
              "1/26/20                 0         0.0       0.0\n",
              "...                   ...         ...       ...\n",
              "4/29/21          18762976  15384418.0  208330.0\n",
              "4/30/21          19164969  15684406.0  211853.0\n",
              "05-01-2021       19557457         NaN       NaN\n",
              "05-02-2021       19925517         NaN       NaN\n",
              "05-03-2021       19925604         NaN       NaN\n",
              "\n",
              "[468 rows x 3 columns]"
            ]
          },
          "metadata": {
            "tags": []
          },
          "execution_count": 17
        }
      ]
    },
    {
      "cell_type": "code",
      "metadata": {
        "colab": {
          "base_uri": "https://localhost:8080/",
          "height": 295
        },
        "id": "hmVGvycGffJH",
        "outputId": "93538f09-0b3c-45a3-a845-21ad1a3fbaa2"
      },
      "source": [
        "plt.plot(india_data.index, india_data['Confirm_Cases'], label = \"Confirmed Cases\", linestyle=\"-\")\n",
        "plt.plot(india_data.index,india_data['Recovered'],label=\"Recovered\",linestyle=\"--\")\n",
        "plt.plot(india_data.index,india_data['Deaths'],label=\"Deaths\",linestyle=\"-.\")\n",
        "plt.xlabel(\"Days\")\n",
        "plt.ylabel(\"Number of Cases\")\n",
        "plt.title(\"Indian Covid Cases\")\n",
        "plt.legend()\n",
        "plt.show()"
      ],
      "execution_count": null,
      "outputs": [
        {
          "output_type": "display_data",
          "data": {
            "image/png": "[encoded data removed]",
            "text/plain": [
              "<Figure size 432x288 with 1 Axes>"
            ]
          },
          "metadata": {
            "tags": [],
            "needs_background": "light"
          }
        }
      ]
    },
    {
      "cell_type": "markdown",
      "metadata": {
        "id": "tHSMCcQ8M2ZN"
      },
      "source": [
        "### **Task-2**"
      ]
    },
    {
      "cell_type": "code",
      "metadata": {
        "id": "BboeDQp8qBq3"
      },
      "source": [
        "#for us data\n",
        "data_US_confirmed = confirmed.loc[confirmed['Country/Region']=='US']\n",
        "data_US_recovered = recovered.loc[recovered['Country/Region']=='US']\n",
        "data_US_deaths = deaths.loc[deaths['Country/Region']=='US']\n"
      ],
      "execution_count": null,
      "outputs": []
    },
    {
      "cell_type": "markdown",
      "metadata": {
        "id": "BHdB7J19M_r7"
      },
      "source": [
        ""
      ]
    },
    {
      "cell_type": "code",
      "metadata": {
        "id": "4Tx_FVk8vQV5"
      },
      "source": [
        "US_confirmed = pd.DataFrame(data_US_confirmed)\n",
        "US_recovered= pd.DataFrame(data_US_recovered)\n",
        "US_deaths = pd.DataFrame(data_US_deaths)"
      ],
      "execution_count": null,
      "outputs": []
    },
    {
      "cell_type": "code",
      "metadata": {
        "id": "L58MOR2xwA3p"
      },
      "source": [
        "US_confirmed=US_confirmed.drop(['Country/Region'],axis=1)\n",
        "US_recovered=US_recovered.drop(['Country/Region'],axis=1)\n",
        "US_deaths = US_deaths.drop(['Country/Region'],axis=1)"
      ],
      "execution_count": null,
      "outputs": []
    },
    {
      "cell_type": "code",
      "metadata": {
        "id": "7cZNuhaHwU42"
      },
      "source": [
        "US_confirmed.index = [\"Confirm_Cases\"]\n",
        "US_confirmed= US_confirmed.transpose()\n"
      ],
      "execution_count": null,
      "outputs": []
    },
    {
      "cell_type": "code",
      "metadata": {
        "colab": {
          "base_uri": "https://localhost:8080/",
          "height": 424
        },
        "id": "hnwypjXhwvxx",
        "outputId": "5edd8de4-3795-45f5-82a8-a88d0f2c2cb5"
      },
      "source": [
        "US_confirmed"
      ],
      "execution_count": null,
      "outputs": [
        {
          "output_type": "execute_result",
          "data": {
            "text/html": [
              "<div>\n",
              "<style scoped>\n",
              "    .dataframe tbody tr th:only-of-type {\n",
              "        vertical-align: middle;\n",
              "    }\n",
              "\n",
              "    .dataframe tbody tr th {\n",
              "        vertical-align: top;\n",
              "    }\n",
              "\n",
              "    .dataframe thead th {\n",
              "        text-align: right;\n",
              "    }\n",
              "</style>\n",
              "<table border=\"1\" class=\"dataframe\">\n",
              "  <thead>\n",
              "    <tr style=\"text-align: right;\">\n",
              "      <th></th>\n",
              "      <th>Confirm_Cases</th>\n",
              "    </tr>\n",
              "  </thead>\n",
              "  <tbody>\n",
              "    <tr>\n",
              "      <th>1/22/20</th>\n",
              "      <td>1</td>\n",
              "    </tr>\n",
              "    <tr>\n",
              "      <th>1/23/20</th>\n",
              "      <td>1</td>\n",
              "    </tr>\n",
              "    <tr>\n",
              "      <th>1/24/20</th>\n",
              "      <td>2</td>\n",
              "    </tr>\n",
              "    <tr>\n",
              "      <th>1/25/20</th>\n",
              "      <td>2</td>\n",
              "    </tr>\n",
              "    <tr>\n",
              "      <th>1/26/20</th>\n",
              "      <td>5</td>\n",
              "    </tr>\n",
              "    <tr>\n",
              "      <th>...</th>\n",
              "      <td>...</td>\n",
              "    </tr>\n",
              "    <tr>\n",
              "      <th>4/29/21</th>\n",
              "      <td>32289049</td>\n",
              "    </tr>\n",
              "    <tr>\n",
              "      <th>4/30/21</th>\n",
              "      <td>32346971</td>\n",
              "    </tr>\n",
              "    <tr>\n",
              "      <th>05-01-2021</th>\n",
              "      <td>32392274</td>\n",
              "    </tr>\n",
              "    <tr>\n",
              "      <th>05-02-2021</th>\n",
              "      <td>32421641</td>\n",
              "    </tr>\n",
              "    <tr>\n",
              "      <th>05-03-2021</th>\n",
              "      <td>32470920</td>\n",
              "    </tr>\n",
              "  </tbody>\n",
              "</table>\n",
              "<p>468 rows × 1 columns</p>\n",
              "</div>"
            ],
            "text/plain": [
              "            Confirm_Cases\n",
              "1/22/20                 1\n",
              "1/23/20                 1\n",
              "1/24/20                 2\n",
              "1/25/20                 2\n",
              "1/26/20                 5\n",
              "...                   ...\n",
              "4/29/21          32289049\n",
              "4/30/21          32346971\n",
              "05-01-2021       32392274\n",
              "05-02-2021       32421641\n",
              "05-03-2021       32470920\n",
              "\n",
              "[468 rows x 1 columns]"
            ]
          },
          "metadata": {
            "tags": []
          },
          "execution_count": 293
        }
      ]
    },
    {
      "cell_type": "code",
      "metadata": {
        "id": "2f3rpqWAwyWg"
      },
      "source": [
        "US_recovered.index = [\"Recovered_Cases\"]\n",
        "US_recovered = US_recovered.transpose()"
      ],
      "execution_count": null,
      "outputs": []
    },
    {
      "cell_type": "code",
      "metadata": {
        "id": "RXu0aJdCxYvb"
      },
      "source": [
        "US_deaths.index = [\"Deaths\"]\n",
        "US_deaths = US_deaths.transpose()"
      ],
      "execution_count": null,
      "outputs": []
    },
    {
      "cell_type": "code",
      "metadata": {
        "id": "3e3v6eEdxj9r"
      },
      "source": [
        "US_data = US_confirmed"
      ],
      "execution_count": null,
      "outputs": []
    },
    {
      "cell_type": "code",
      "metadata": {
        "id": "KclKqz32xvkt"
      },
      "source": [
        "US_data['Recovered']=US_recovered"
      ],
      "execution_count": null,
      "outputs": []
    },
    {
      "cell_type": "code",
      "metadata": {
        "id": "En2i2Tkixy45"
      },
      "source": [
        "US_data['Deaths'] = US_deaths"
      ],
      "execution_count": null,
      "outputs": []
    },
    {
      "cell_type": "code",
      "metadata": {
        "id": "qFRbVoTcx6yH"
      },
      "source": [
        "US_data\n"
      ],
      "execution_count": null,
      "outputs": []
    },
    {
      "cell_type": "code",
      "metadata": {
        "colab": {
          "base_uri": "https://localhost:8080/",
          "height": 295
        },
        "id": "0YUDhn-HyBxw",
        "outputId": "f0916c5f-59ea-48f2-9ce3-199341ce2f82"
      },
      "source": [
        "plt.plot(US_data.index, US_data['Confirm_Cases'], label = \"Confirmed Cases\", linestyle=\"-\")\n",
        "plt.plot(US_data.index,US_data['Recovered'],label=\"Recovered\",linestyle=\"--\")\n",
        "plt.plot(US_data.index,US_data['Deaths'],label=\"Deaths\",linestyle=\"-.\")\n",
        "plt.xlabel(\"Days\")\n",
        "plt.ylabel(\"Number of Cases\")\n",
        "plt.title(\"US Covid Cases\")\n",
        "plt.legend()\n",
        "plt.show()"
      ],
      "execution_count": null,
      "outputs": [
        {
          "output_type": "display_data",
          "data": {
            "image/png": "[encoded data removed]",
            "text/plain": [
              "<Figure size 432x288 with 1 Axes>"
            ]
          },
          "metadata": {
            "tags": []
          }
        }
      ]
    },
    {
      "cell_type": "code",
      "metadata": {
        "id": "Prxv9bRVys5i"
      },
      "source": [
        "#FOR ITALY\n",
        "data_Italy_confirmed = confirmed.loc[confirmed['Country/Region']=='Italy']\n",
        "data_Italy_recovered = recovered.loc[recovered['Country/Region']=='Italy']\n",
        "data_Italy_deaths = deaths.loc[deaths['Country/Region']=='Italy']"
      ],
      "execution_count": null,
      "outputs": []
    },
    {
      "cell_type": "code",
      "metadata": {
        "id": "D5bSFyH3zOkr"
      },
      "source": [
        "Italy_confirmed = pd.DataFrame(data_Italy_confirmed)\n",
        "Italy_recovered= pd.DataFrame(data_Italy_recovered)\n",
        "Italy_deaths = pd.DataFrame(data_Italy_deaths)"
      ],
      "execution_count": null,
      "outputs": []
    },
    {
      "cell_type": "code",
      "metadata": {
        "id": "XAOpgNZqzPOo"
      },
      "source": [
        "Italy_confirmed=Italy_confirmed.drop(['Country/Region'],axis=1)\n",
        "Italy_recovered=Italy_recovered.drop(['Country/Region'],axis=1)\n",
        "Italy_deaths = Italy_deaths.drop(['Country/Region'],axis=1)"
      ],
      "execution_count": null,
      "outputs": []
    },
    {
      "cell_type": "code",
      "metadata": {
        "id": "cxtmIEGNzOpU"
      },
      "source": [
        "Italy_confirmed.index = [\"Confirm_Cases\"]\n",
        "Italy_confirmed= Italy_confirmed.transpose()"
      ],
      "execution_count": null,
      "outputs": []
    },
    {
      "cell_type": "code",
      "metadata": {
        "id": "XmVwOCdx0FBQ"
      },
      "source": [
        "Italy_recovered.index = [\"Recovered_Cases\"]\n",
        "Italy_recovered =Italy_recovered.transpose()"
      ],
      "execution_count": null,
      "outputs": []
    },
    {
      "cell_type": "code",
      "metadata": {
        "id": "pvqispjq0IDc"
      },
      "source": [
        "Italy_deaths.index = [\"Deaths\"]\n",
        "Italy_deaths = Italy_deaths.transpose()"
      ],
      "execution_count": null,
      "outputs": []
    },
    {
      "cell_type": "code",
      "metadata": {
        "id": "7C4JVtsF0gbw"
      },
      "source": [
        "Italy_data = Italy_confirmed"
      ],
      "execution_count": null,
      "outputs": []
    },
    {
      "cell_type": "code",
      "metadata": {
        "id": "LBvG4vhs0nnu"
      },
      "source": [
        "Italy_data['Recovered']=Italy_recovered"
      ],
      "execution_count": null,
      "outputs": []
    },
    {
      "cell_type": "code",
      "metadata": {
        "id": "qeUxwCyS1P3X"
      },
      "source": [
        "Italy_data['Deaths'] = Italy_deaths"
      ],
      "execution_count": null,
      "outputs": []
    },
    {
      "cell_type": "code",
      "metadata": {
        "colab": {
          "base_uri": "https://localhost:8080/",
          "height": 424
        },
        "id": "Q30duJkt1XIv",
        "outputId": "a419c667-9c64-43d9-f70d-efdfafc429b9"
      },
      "source": [
        "Italy_data"
      ],
      "execution_count": null,
      "outputs": [
        {
          "output_type": "execute_result",
          "data": {
            "text/html": [
              "<div>\n",
              "<style scoped>\n",
              "    .dataframe tbody tr th:only-of-type {\n",
              "        vertical-align: middle;\n",
              "    }\n",
              "\n",
              "    .dataframe tbody tr th {\n",
              "        vertical-align: top;\n",
              "    }\n",
              "\n",
              "    .dataframe thead th {\n",
              "        text-align: right;\n",
              "    }\n",
              "</style>\n",
              "<table border=\"1\" class=\"dataframe\">\n",
              "  <thead>\n",
              "    <tr style=\"text-align: right;\">\n",
              "      <th></th>\n",
              "      <th>Confirm_Cases</th>\n",
              "      <th>Recovered</th>\n",
              "      <th>Deaths</th>\n",
              "    </tr>\n",
              "  </thead>\n",
              "  <tbody>\n",
              "    <tr>\n",
              "      <th>1/22/20</th>\n",
              "      <td>0</td>\n",
              "      <td>0.0</td>\n",
              "      <td>0.0</td>\n",
              "    </tr>\n",
              "    <tr>\n",
              "      <th>1/23/20</th>\n",
              "      <td>0</td>\n",
              "      <td>0.0</td>\n",
              "      <td>0.0</td>\n",
              "    </tr>\n",
              "    <tr>\n",
              "      <th>1/24/20</th>\n",
              "      <td>0</td>\n",
              "      <td>0.0</td>\n",
              "      <td>0.0</td>\n",
              "    </tr>\n",
              "    <tr>\n",
              "      <th>1/25/20</th>\n",
              "      <td>0</td>\n",
              "      <td>0.0</td>\n",
              "      <td>0.0</td>\n",
              "    </tr>\n",
              "    <tr>\n",
              "      <th>1/26/20</th>\n",
              "      <td>0</td>\n",
              "      <td>0.0</td>\n",
              "      <td>0.0</td>\n",
              "    </tr>\n",
              "    <tr>\n",
              "      <th>...</th>\n",
              "      <td>...</td>\n",
              "      <td>...</td>\n",
              "      <td>...</td>\n",
              "    </tr>\n",
              "    <tr>\n",
              "      <th>4/29/21</th>\n",
              "      <td>4009208</td>\n",
              "      <td>3449955.0</td>\n",
              "      <td>120544.0</td>\n",
              "    </tr>\n",
              "    <tr>\n",
              "      <th>4/30/21</th>\n",
              "      <td>4022653</td>\n",
              "      <td>3465576.0</td>\n",
              "      <td>120807.0</td>\n",
              "    </tr>\n",
              "    <tr>\n",
              "      <th>05-01-2021</th>\n",
              "      <td>4035617</td>\n",
              "      <td>NaN</td>\n",
              "      <td>NaN</td>\n",
              "    </tr>\n",
              "    <tr>\n",
              "      <th>05-02-2021</th>\n",
              "      <td>4044762</td>\n",
              "      <td>NaN</td>\n",
              "      <td>NaN</td>\n",
              "    </tr>\n",
              "    <tr>\n",
              "      <th>05-03-2021</th>\n",
              "      <td>4050708</td>\n",
              "      <td>NaN</td>\n",
              "      <td>NaN</td>\n",
              "    </tr>\n",
              "  </tbody>\n",
              "</table>\n",
              "<p>468 rows × 3 columns</p>\n",
              "</div>"
            ],
            "text/plain": [
              "            Confirm_Cases  Recovered    Deaths\n",
              "1/22/20                 0        0.0       0.0\n",
              "1/23/20                 0        0.0       0.0\n",
              "1/24/20                 0        0.0       0.0\n",
              "1/25/20                 0        0.0       0.0\n",
              "1/26/20                 0        0.0       0.0\n",
              "...                   ...        ...       ...\n",
              "4/29/21           4009208  3449955.0  120544.0\n",
              "4/30/21           4022653  3465576.0  120807.0\n",
              "05-01-2021        4035617        NaN       NaN\n",
              "05-02-2021        4044762        NaN       NaN\n",
              "05-03-2021        4050708        NaN       NaN\n",
              "\n",
              "[468 rows x 3 columns]"
            ]
          },
          "metadata": {
            "tags": []
          },
          "execution_count": 325
        }
      ]
    },
    {
      "cell_type": "code",
      "metadata": {
        "colab": {
          "base_uri": "https://localhost:8080/",
          "height": 295
        },
        "id": "l_0EDI2Y1dtE",
        "outputId": "ac79e28f-be66-492f-8d37-1bfa5d982e40"
      },
      "source": [
        "plt.plot(Italy_data.index, Italy_data['Confirm_Cases'], label = \"Confirmed Cases\", linestyle=\"-\")\n",
        "plt.plot(Italy_data.index,Italy_data['Recovered'],label=\"Recovered\",linestyle=\"--\")\n",
        "plt.plot(Italy_data.index,Italy_data['Deaths'],label=\"Deaths\",linestyle=\"-.\")\n",
        "plt.xlabel(\"Days\")\n",
        "plt.ylabel(\"Number of Cases\")\n",
        "plt.title(\"Italy Covid Cases\")\n",
        "plt.legend()\n",
        "plt.show()"
      ],
      "execution_count": null,
      "outputs": [
        {
          "output_type": "display_data",
          "data": {
            "image/png": "[encoded data removed]",
            "text/plain": [
              "<Figure size 432x288 with 1 Axes>"
            ]
          },
          "metadata": {
            "tags": []
          }
        }
      ]
    },
    {
      "cell_type": "markdown",
      "metadata": {
        "id": "BMZaqDx9NNci"
      },
      "source": [
        "# **Task-3**"
      ]
    },
    {
      "cell_type": "code",
      "metadata": {
        "colab": {
          "base_uri": "https://localhost:8080/",
          "height": 424
        },
        "id": "j7HPGAufNSdW",
        "outputId": "952d0936-04c2-447e-a9cb-aed1b78f8a7c"
      },
      "source": [
        "india_confirmed"
      ],
      "execution_count": null,
      "outputs": [
        {
          "output_type": "execute_result",
          "data": {
            "text/html": [
              "<div>\n",
              "<style scoped>\n",
              "    .dataframe tbody tr th:only-of-type {\n",
              "        vertical-align: middle;\n",
              "    }\n",
              "\n",
              "    .dataframe tbody tr th {\n",
              "        vertical-align: top;\n",
              "    }\n",
              "\n",
              "    .dataframe thead th {\n",
              "        text-align: right;\n",
              "    }\n",
              "</style>\n",
              "<table border=\"1\" class=\"dataframe\">\n",
              "  <thead>\n",
              "    <tr style=\"text-align: right;\">\n",
              "      <th></th>\n",
              "      <th>Confirm_Cases</th>\n",
              "      <th>Recovered</th>\n",
              "      <th>Deaths</th>\n",
              "    </tr>\n",
              "  </thead>\n",
              "  <tbody>\n",
              "    <tr>\n",
              "      <th>1/22/20</th>\n",
              "      <td>0</td>\n",
              "      <td>0.0</td>\n",
              "      <td>0.0</td>\n",
              "    </tr>\n",
              "    <tr>\n",
              "      <th>1/23/20</th>\n",
              "      <td>0</td>\n",
              "      <td>0.0</td>\n",
              "      <td>0.0</td>\n",
              "    </tr>\n",
              "    <tr>\n",
              "      <th>1/24/20</th>\n",
              "      <td>0</td>\n",
              "      <td>0.0</td>\n",
              "      <td>0.0</td>\n",
              "    </tr>\n",
              "    <tr>\n",
              "      <th>1/25/20</th>\n",
              "      <td>0</td>\n",
              "      <td>0.0</td>\n",
              "      <td>0.0</td>\n",
              "    </tr>\n",
              "    <tr>\n",
              "      <th>1/26/20</th>\n",
              "      <td>0</td>\n",
              "      <td>0.0</td>\n",
              "      <td>0.0</td>\n",
              "    </tr>\n",
              "    <tr>\n",
              "      <th>...</th>\n",
              "      <td>...</td>\n",
              "      <td>...</td>\n",
              "      <td>...</td>\n",
              "    </tr>\n",
              "    <tr>\n",
              "      <th>4/29/21</th>\n",
              "      <td>18762976</td>\n",
              "      <td>15384418.0</td>\n",
              "      <td>208330.0</td>\n",
              "    </tr>\n",
              "    <tr>\n",
              "      <th>4/30/21</th>\n",
              "      <td>19164969</td>\n",
              "      <td>15684406.0</td>\n",
              "      <td>211853.0</td>\n",
              "    </tr>\n",
              "    <tr>\n",
              "      <th>05-01-2021</th>\n",
              "      <td>19557457</td>\n",
              "      <td>NaN</td>\n",
              "      <td>NaN</td>\n",
              "    </tr>\n",
              "    <tr>\n",
              "      <th>05-02-2021</th>\n",
              "      <td>19925517</td>\n",
              "      <td>NaN</td>\n",
              "      <td>NaN</td>\n",
              "    </tr>\n",
              "    <tr>\n",
              "      <th>05-03-2021</th>\n",
              "      <td>19925604</td>\n",
              "      <td>NaN</td>\n",
              "      <td>NaN</td>\n",
              "    </tr>\n",
              "  </tbody>\n",
              "</table>\n",
              "<p>468 rows × 3 columns</p>\n",
              "</div>"
            ],
            "text/plain": [
              "            Confirm_Cases   Recovered    Deaths\n",
              "1/22/20                 0         0.0       0.0\n",
              "1/23/20                 0         0.0       0.0\n",
              "1/24/20                 0         0.0       0.0\n",
              "1/25/20                 0         0.0       0.0\n",
              "1/26/20                 0         0.0       0.0\n",
              "...                   ...         ...       ...\n",
              "4/29/21          18762976  15384418.0  208330.0\n",
              "4/30/21          19164969  15684406.0  211853.0\n",
              "05-01-2021       19557457         NaN       NaN\n",
              "05-02-2021       19925517         NaN       NaN\n",
              "05-03-2021       19925604         NaN       NaN\n",
              "\n",
              "[468 rows x 3 columns]"
            ]
          },
          "metadata": {
            "tags": []
          },
          "execution_count": 19
        }
      ]
    },
    {
      "cell_type": "code",
      "metadata": {
        "colab": {
          "base_uri": "https://localhost:8080/",
          "height": 295
        },
        "id": "iAxT4U13N8fn",
        "outputId": "01fbe214-b670-4118-d8bb-18a15814177b"
      },
      "source": [
        "plt.plot(india_data.index, india_data['Confirm_Cases'], label = \"Confirmed Cases\", linestyle=\"-\")\n",
        "plt.xlabel(\"Days\")\n",
        "plt.ylabel(\"Number of Cases\")\n",
        "plt.title(\"Indian Covid Cases\")\n",
        "plt.legend()\n",
        "plt.show()"
      ],
      "execution_count": null,
      "outputs": [
        {
          "output_type": "display_data",
          "data": {
            "image/png": "[encoded data removed]",
            "text/plain": [
              "<Figure size 432x288 with 1 Axes>"
            ]
          },
          "metadata": {
            "tags": [],
            "needs_background": "light"
          }
        }
      ]
    },
    {
      "cell_type": "code",
      "metadata": {
        "id": "v6X8L-LbOEXC"
      },
      "source": [
        "predi_d= [i for  i  in range(1,469)]\n",
        "p= india_confirmed"
      ],
      "execution_count": null,
      "outputs": []
    },
    {
      "cell_type": "code",
      "metadata": {
        "colab": {
          "base_uri": "https://localhost:8080/",
          "height": 424
        },
        "id": "_kfsHZlsO1ZB",
        "outputId": "9476dfc5-ea18-4999-e27c-99d2e36d0c92"
      },
      "source": [
        "p.insert(0,\"Days\",predi_d,True)\n",
        "p"
      ],
      "execution_count": null,
      "outputs": [
        {
          "output_type": "execute_result",
          "data": {
            "text/html": [
              "<div>\n",
              "<style scoped>\n",
              "    .dataframe tbody tr th:only-of-type {\n",
              "        vertical-align: middle;\n",
              "    }\n",
              "\n",
              "    .dataframe tbody tr th {\n",
              "        vertical-align: top;\n",
              "    }\n",
              "\n",
              "    .dataframe thead th {\n",
              "        text-align: right;\n",
              "    }\n",
              "</style>\n",
              "<table border=\"1\" class=\"dataframe\">\n",
              "  <thead>\n",
              "    <tr style=\"text-align: right;\">\n",
              "      <th></th>\n",
              "      <th>Days</th>\n",
              "      <th>Days</th>\n",
              "      <th>Confirm_Cases</th>\n",
              "      <th>Recovered</th>\n",
              "      <th>Deaths</th>\n",
              "    </tr>\n",
              "  </thead>\n",
              "  <tbody>\n",
              "    <tr>\n",
              "      <th>1/22/20</th>\n",
              "      <td>1</td>\n",
              "      <td>1</td>\n",
              "      <td>0</td>\n",
              "      <td>0.0</td>\n",
              "      <td>0.0</td>\n",
              "    </tr>\n",
              "    <tr>\n",
              "      <th>1/23/20</th>\n",
              "      <td>2</td>\n",
              "      <td>2</td>\n",
              "      <td>0</td>\n",
              "      <td>0.0</td>\n",
              "      <td>0.0</td>\n",
              "    </tr>\n",
              "    <tr>\n",
              "      <th>1/24/20</th>\n",
              "      <td>3</td>\n",
              "      <td>3</td>\n",
              "      <td>0</td>\n",
              "      <td>0.0</td>\n",
              "      <td>0.0</td>\n",
              "    </tr>\n",
              "    <tr>\n",
              "      <th>1/25/20</th>\n",
              "      <td>4</td>\n",
              "      <td>4</td>\n",
              "      <td>0</td>\n",
              "      <td>0.0</td>\n",
              "      <td>0.0</td>\n",
              "    </tr>\n",
              "    <tr>\n",
              "      <th>1/26/20</th>\n",
              "      <td>5</td>\n",
              "      <td>5</td>\n",
              "      <td>0</td>\n",
              "      <td>0.0</td>\n",
              "      <td>0.0</td>\n",
              "    </tr>\n",
              "    <tr>\n",
              "      <th>...</th>\n",
              "      <td>...</td>\n",
              "      <td>...</td>\n",
              "      <td>...</td>\n",
              "      <td>...</td>\n",
              "      <td>...</td>\n",
              "    </tr>\n",
              "    <tr>\n",
              "      <th>4/29/21</th>\n",
              "      <td>464</td>\n",
              "      <td>464</td>\n",
              "      <td>18762976</td>\n",
              "      <td>15384418.0</td>\n",
              "      <td>208330.0</td>\n",
              "    </tr>\n",
              "    <tr>\n",
              "      <th>4/30/21</th>\n",
              "      <td>465</td>\n",
              "      <td>465</td>\n",
              "      <td>19164969</td>\n",
              "      <td>15684406.0</td>\n",
              "      <td>211853.0</td>\n",
              "    </tr>\n",
              "    <tr>\n",
              "      <th>05-01-2021</th>\n",
              "      <td>466</td>\n",
              "      <td>466</td>\n",
              "      <td>19557457</td>\n",
              "      <td>NaN</td>\n",
              "      <td>NaN</td>\n",
              "    </tr>\n",
              "    <tr>\n",
              "      <th>05-02-2021</th>\n",
              "      <td>467</td>\n",
              "      <td>467</td>\n",
              "      <td>19925517</td>\n",
              "      <td>NaN</td>\n",
              "      <td>NaN</td>\n",
              "    </tr>\n",
              "    <tr>\n",
              "      <th>05-03-2021</th>\n",
              "      <td>468</td>\n",
              "      <td>468</td>\n",
              "      <td>19925604</td>\n",
              "      <td>NaN</td>\n",
              "      <td>NaN</td>\n",
              "    </tr>\n",
              "  </tbody>\n",
              "</table>\n",
              "<p>468 rows × 5 columns</p>\n",
              "</div>"
            ],
            "text/plain": [
              "            Days  Days  Confirm_Cases   Recovered    Deaths\n",
              "1/22/20        1     1              0         0.0       0.0\n",
              "1/23/20        2     2              0         0.0       0.0\n",
              "1/24/20        3     3              0         0.0       0.0\n",
              "1/25/20        4     4              0         0.0       0.0\n",
              "1/26/20        5     5              0         0.0       0.0\n",
              "...          ...   ...            ...         ...       ...\n",
              "4/29/21      464   464       18762976  15384418.0  208330.0\n",
              "4/30/21      465   465       19164969  15684406.0  211853.0\n",
              "05-01-2021   466   466       19557457         NaN       NaN\n",
              "05-02-2021   467   467       19925517         NaN       NaN\n",
              "05-03-2021   468   468       19925604         NaN       NaN\n",
              "\n",
              "[468 rows x 5 columns]"
            ]
          },
          "metadata": {
            "tags": []
          },
          "execution_count": 26
        }
      ]
    },
    {
      "cell_type": "code",
      "metadata": {
        "id": "0pSXrALOQa_c"
      },
      "source": [
        "X = p.iloc[:,0:1]\n",
        "Y = p.iloc[:,-1]"
      ],
      "execution_count": null,
      "outputs": []
    },
    {
      "cell_type": "code",
      "metadata": {
        "colab": {
          "base_uri": "https://localhost:8080/",
          "height": 380
        },
        "id": "tnUz_E0RQlcZ",
        "outputId": "f7cbf4b7-33d0-4ab0-ad58-d214cb00aba0"
      },
      "source": [
        "from sklearn.linear_model import LinearRegression\n",
        "prediction_model = LinearRegression().fit(X, Y)\n",
        "x = np.array([469]).reshape(-1, 1)\n",
        "x"
      ],
      "execution_count": null,
      "outputs": [
        {
          "output_type": "error",
          "ename": "ValueError",
          "evalue": "ignored",
          "traceback": [
            "\u001b[0;31m---------------------------------------------------------------------------\u001b[0m",
            "\u001b[0;31mValueError\u001b[0m                                Traceback (most recent call last)",
            "\u001b[0;32m<ipython-input-28-341434c6ab50>\u001b[0m in \u001b[0;36m<module>\u001b[0;34m()\u001b[0m\n\u001b[1;32m      1\u001b[0m \u001b[0;32mfrom\u001b[0m \u001b[0msklearn\u001b[0m\u001b[0;34m.\u001b[0m\u001b[0mlinear_model\u001b[0m \u001b[0;32mimport\u001b[0m \u001b[0mLinearRegression\u001b[0m\u001b[0;34m\u001b[0m\u001b[0;34m\u001b[0m\u001b[0m\n\u001b[0;32m----> 2\u001b[0;31m \u001b[0mprediction_model\u001b[0m \u001b[0;34m=\u001b[0m \u001b[0mLinearRegression\u001b[0m\u001b[0;34m(\u001b[0m\u001b[0;34m)\u001b[0m\u001b[0;34m.\u001b[0m\u001b[0mfit\u001b[0m\u001b[0;34m(\u001b[0m\u001b[0mX\u001b[0m\u001b[0;34m,\u001b[0m \u001b[0mY\u001b[0m\u001b[0;34m)\u001b[0m\u001b[0;34m\u001b[0m\u001b[0;34m\u001b[0m\u001b[0m\n\u001b[0m\u001b[1;32m      3\u001b[0m \u001b[0mx\u001b[0m \u001b[0;34m=\u001b[0m \u001b[0mnp\u001b[0m\u001b[0;34m.\u001b[0m\u001b[0marray\u001b[0m\u001b[0;34m(\u001b[0m\u001b[0;34m[\u001b[0m\u001b[0;36m469\u001b[0m\u001b[0;34m]\u001b[0m\u001b[0;34m)\u001b[0m\u001b[0;34m.\u001b[0m\u001b[0mreshape\u001b[0m\u001b[0;34m(\u001b[0m\u001b[0;34m-\u001b[0m\u001b[0;36m1\u001b[0m\u001b[0;34m,\u001b[0m \u001b[0;36m1\u001b[0m\u001b[0;34m)\u001b[0m\u001b[0;34m\u001b[0m\u001b[0;34m\u001b[0m\u001b[0m\n\u001b[1;32m      4\u001b[0m \u001b[0mx\u001b[0m\u001b[0;34m\u001b[0m\u001b[0;34m\u001b[0m\u001b[0m\n",
            "\u001b[0;32m/usr/local/lib/python3.7/dist-packages/sklearn/linear_model/_base.py\u001b[0m in \u001b[0;36mfit\u001b[0;34m(self, X, y, sample_weight)\u001b[0m\n\u001b[1;32m    490\u001b[0m         \u001b[0mn_jobs_\u001b[0m \u001b[0;34m=\u001b[0m \u001b[0mself\u001b[0m\u001b[0;34m.\u001b[0m\u001b[0mn_jobs\u001b[0m\u001b[0;34m\u001b[0m\u001b[0;34m\u001b[0m\u001b[0m\n\u001b[1;32m    491\u001b[0m         X, y = check_X_y(X, y, accept_sparse=['csr', 'csc', 'coo'],\n\u001b[0;32m--> 492\u001b[0;31m                          y_numeric=True, multi_output=True)\n\u001b[0m\u001b[1;32m    493\u001b[0m \u001b[0;34m\u001b[0m\u001b[0m\n\u001b[1;32m    494\u001b[0m         \u001b[0;32mif\u001b[0m \u001b[0msample_weight\u001b[0m \u001b[0;32mis\u001b[0m \u001b[0;32mnot\u001b[0m \u001b[0;32mNone\u001b[0m\u001b[0;34m:\u001b[0m\u001b[0;34m\u001b[0m\u001b[0;34m\u001b[0m\u001b[0m\n",
            "\u001b[0;32m/usr/local/lib/python3.7/dist-packages/sklearn/utils/validation.py\u001b[0m in \u001b[0;36mcheck_X_y\u001b[0;34m(X, y, accept_sparse, accept_large_sparse, dtype, order, copy, force_all_finite, ensure_2d, allow_nd, multi_output, ensure_min_samples, ensure_min_features, y_numeric, warn_on_dtype, estimator)\u001b[0m\n\u001b[1;32m    756\u001b[0m     \u001b[0;32mif\u001b[0m \u001b[0mmulti_output\u001b[0m\u001b[0;34m:\u001b[0m\u001b[0;34m\u001b[0m\u001b[0;34m\u001b[0m\u001b[0m\n\u001b[1;32m    757\u001b[0m         y = check_array(y, 'csr', force_all_finite=True, ensure_2d=False,\n\u001b[0;32m--> 758\u001b[0;31m                         dtype=None)\n\u001b[0m\u001b[1;32m    759\u001b[0m     \u001b[0;32melse\u001b[0m\u001b[0;34m:\u001b[0m\u001b[0;34m\u001b[0m\u001b[0;34m\u001b[0m\u001b[0m\n\u001b[1;32m    760\u001b[0m         \u001b[0my\u001b[0m \u001b[0;34m=\u001b[0m \u001b[0mcolumn_or_1d\u001b[0m\u001b[0;34m(\u001b[0m\u001b[0my\u001b[0m\u001b[0;34m,\u001b[0m \u001b[0mwarn\u001b[0m\u001b[0;34m=\u001b[0m\u001b[0;32mTrue\u001b[0m\u001b[0;34m)\u001b[0m\u001b[0;34m\u001b[0m\u001b[0;34m\u001b[0m\u001b[0m\n",
            "\u001b[0;32m/usr/local/lib/python3.7/dist-packages/sklearn/utils/validation.py\u001b[0m in \u001b[0;36mcheck_array\u001b[0;34m(array, accept_sparse, accept_large_sparse, dtype, order, copy, force_all_finite, ensure_2d, allow_nd, ensure_min_samples, ensure_min_features, warn_on_dtype, estimator)\u001b[0m\n\u001b[1;32m    576\u001b[0m         \u001b[0;32mif\u001b[0m \u001b[0mforce_all_finite\u001b[0m\u001b[0;34m:\u001b[0m\u001b[0;34m\u001b[0m\u001b[0;34m\u001b[0m\u001b[0m\n\u001b[1;32m    577\u001b[0m             _assert_all_finite(array,\n\u001b[0;32m--> 578\u001b[0;31m                                allow_nan=force_all_finite == 'allow-nan')\n\u001b[0m\u001b[1;32m    579\u001b[0m \u001b[0;34m\u001b[0m\u001b[0m\n\u001b[1;32m    580\u001b[0m     \u001b[0;32mif\u001b[0m \u001b[0mensure_min_samples\u001b[0m \u001b[0;34m>\u001b[0m \u001b[0;36m0\u001b[0m\u001b[0;34m:\u001b[0m\u001b[0;34m\u001b[0m\u001b[0;34m\u001b[0m\u001b[0m\n",
            "\u001b[0;32m/usr/local/lib/python3.7/dist-packages/sklearn/utils/validation.py\u001b[0m in \u001b[0;36m_assert_all_finite\u001b[0;34m(X, allow_nan, msg_dtype)\u001b[0m\n\u001b[1;32m     58\u001b[0m                     \u001b[0mmsg_err\u001b[0m\u001b[0;34m.\u001b[0m\u001b[0mformat\u001b[0m\u001b[0;34m\u001b[0m\u001b[0;34m\u001b[0m\u001b[0m\n\u001b[1;32m     59\u001b[0m                     (type_err,\n\u001b[0;32m---> 60\u001b[0;31m                      msg_dtype if msg_dtype is not None else X.dtype)\n\u001b[0m\u001b[1;32m     61\u001b[0m             )\n\u001b[1;32m     62\u001b[0m     \u001b[0;31m# for object dtype data, we only check for NaNs (GH-13254)\u001b[0m\u001b[0;34m\u001b[0m\u001b[0;34m\u001b[0m\u001b[0;34m\u001b[0m\u001b[0m\n",
            "\u001b[0;31mValueError\u001b[0m: Input contains NaN, infinity or a value too large for dtype('float64')."
          ]
        }
      ]
    },
    {
      "cell_type": "code",
      "metadata": {
        "colab": {
          "base_uri": "https://localhost:8080/"
        },
        "id": "_KUeMaGfQ9Nq",
        "outputId": "bfb06fe9-371a-48f0-8843-95bffa517e73"
      },
      "source": [
        "y_pred = prediction_model.predict(x)\n",
        "print(int(y_pred))"
      ],
      "execution_count": null,
      "outputs": [
        {
          "output_type": "stream",
          "text": [
            "14221178\n"
          ],
          "name": "stdout"
        }
      ]
    }
  ]
}